{
 "cells": [
  {
   "cell_type": "code",
   "execution_count": 1,
   "metadata": {},
   "outputs": [
    {
     "name": "stderr",
     "output_type": "stream",
     "text": [
      "24/09/20 15:55:36 WARN SparkSession: Using an existing Spark session; only runtime SQL configurations will take effect.\n"
     ]
    }
   ],
   "source": [
    "from pyspark.sql import SparkSession\n",
    "spark = SparkSession.builder.appName(\"Data Analysis\").getOrCreate()\n",
    "import matplotlib.pyplot as plt"
   ]
  },
  {
   "cell_type": "markdown",
   "metadata": {},
   "source": [
    "# Análise do dataset"
   ]
  },
  {
   "cell_type": "code",
   "execution_count": 9,
   "metadata": {},
   "outputs": [
    {
     "name": "stderr",
     "output_type": "stream",
     "text": [
      "\r",
      "[Stage 7:======================>                                    (3 + 5) / 8]\r",
      "\r",
      "                                                                                \r"
     ]
    }
   ],
   "source": [
    "# Carregando dados\n",
    "airport_data = spark.read.csv('./../data/airports-database.csv', header=True, inferSchema=True)"
   ]
  },
  {
   "cell_type": "code",
   "execution_count": 11,
   "metadata": {},
   "outputs": [
    {
     "name": "stdout",
     "output_type": "stream",
     "text": [
      "['id', 'year', 'month', 'day', 'dep_time', 'sched_dep_time', 'dep_delay', 'arr_time', 'sched_arr_time', 'arr_delay', 'carrier', 'flight', 'tailnum', 'origin', 'dest', 'air_time', 'distance', 'hour', 'minute', 'time_hour', 'name']\n"
     ]
    }
   ],
   "source": [
    "# Visualizando a \"cara\" dos dados: colunas\n",
    "print(airport_data.columns)"
   ]
  },
  {
   "cell_type": "code",
   "execution_count": 40,
   "metadata": {},
   "outputs": [],
   "source": [
    "from pyspark.sql.functions import col, when, struct, avg, to_timestamp, date_format, month, row_number, min, max\n",
    "from pyspark.sql.window import Window"
   ]
  },
  {
   "cell_type": "markdown",
   "metadata": {},
   "source": [
    "Alguns pré-processamentos"
   ]
  },
  {
   "cell_type": "code",
   "execution_count": 14,
   "metadata": {},
   "outputs": [],
   "source": [
    "# Voos cancelados: todos que NUNCA DECOLARAM e que NUNCA POUSARAM\n",
    "airport_data = airport_data.withColumn(\n",
    "    'cancelled',\n",
    "    when(col('dep_time').isNull() & col('arr_time').isNull(), 1).otherwise(0)\n",
    ")"
   ]
  },
  {
   "cell_type": "code",
   "execution_count": 15,
   "metadata": {},
   "outputs": [],
   "source": [
    "# Voos desviados: todos que DECOLARAM mas NUNCA POUSARAM (no lugar previsto)\n",
    "airport_data = airport_data.withColumn(\n",
    "    'diverted',\n",
    "    when((col('cancelled') == 0) & col('arr_time').isNull(), 1).otherwise(0)\n",
    ")"
   ]
  },
  {
   "cell_type": "code",
   "execution_count": 16,
   "metadata": {},
   "outputs": [],
   "source": [
    "# Voos finalizados: todos os que DECOLARAM e POUSARAM no lugar previsto\n",
    "airport_data = airport_data.withColumn(\n",
    "    'landed',\n",
    "    when(col('dep_time').isNotNull() & col('arr_time').isNotNull(), 1).otherwise(0)\n",
    ")"
   ]
  },
  {
   "cell_type": "markdown",
   "metadata": {},
   "source": [
    "# Respostas para as perguntas"
   ]
  },
  {
   "cell_type": "markdown",
   "metadata": {},
   "source": [
    "1. Qual é o numero total de voos no conjunto de dados? <br>\n",
    "2. Quantos voos foram cancelados?"
   ]
  },
  {
   "cell_type": "code",
   "execution_count": 18,
   "metadata": {},
   "outputs": [],
   "source": [
    "from pyspark.sql.functions import sum as spark_sum, count"
   ]
  },
  {
   "cell_type": "code",
   "execution_count": 19,
   "metadata": {},
   "outputs": [
    {
     "name": "stdout",
     "output_type": "stream",
     "text": [
      "Voos cancelados: 8255\n",
      "Voos desviados: 458\n",
      "Voos concluídos: 328063\n",
      "\n",
      "Total de voos: 336776\n",
      "Tamanho total do dataset: 336776\n"
     ]
    }
   ],
   "source": [
    "cancelled_flights = airport_data.select(spark_sum('cancelled')).collect()[0][0]\n",
    "print(f'Voos cancelados: {cancelled_flights}')\n",
    "\n",
    "diverted_flights = airport_data.select(spark_sum('diverted')).collect()[0][0]\n",
    "print(f'Voos desviados: {diverted_flights}')\n",
    "\n",
    "landed_flights = airport_data.select(spark_sum('landed')).collect()[0][0]\n",
    "print(f'Voos concluídos: {landed_flights}')\n",
    "\n",
    "total_flights = cancelled_flights + diverted_flights + landed_flights\n",
    "print(f'\\nTotal de voos: {total_flights}')\n",
    "\n",
    "dataset_size = airport_data.count()\n",
    "print(f'Tamanho total do dataset: {dataset_size}')"
   ]
  },
  {
   "cell_type": "markdown",
   "metadata": {},
   "source": [
    "3. Qual o atraso médio na partida dos voos? (em minutos)"
   ]
  },
  {
   "cell_type": "code",
   "execution_count": 20,
   "metadata": {},
   "outputs": [
    {
     "name": "stdout",
     "output_type": "stream",
     "text": [
      "Média do atraso na decolagem para voos que pousaram: 12.575974736559747\n"
     ]
    }
   ],
   "source": [
    "from pyspark.sql.functions import mean\n",
    "\n",
    "# Considerando todos os voos concluídos com sucesso:\n",
    "average_dep_delay = airport_data.filter(col('landed') == 1).select(mean('dep_delay')).collect()[0][0]\n",
    "\n",
    "print(f'Média do atraso na decolagem para voos que pousaram: {average_dep_delay}')"
   ]
  },
  {
   "cell_type": "markdown",
   "metadata": {},
   "source": [
    "4. Quais são os 5 aeroportos com maior número de pousos?"
   ]
  },
  {
   "cell_type": "code",
   "execution_count": 21,
   "metadata": {},
   "outputs": [
    {
     "name": "stdout",
     "output_type": "stream",
     "text": [
      "+----+-----+\n",
      "|dest|count|\n",
      "+----+-----+\n",
      "| ATL|16873|\n",
      "| ORD|16607|\n",
      "| LAX|16058|\n",
      "| BOS|15028|\n",
      "| MCO|13979|\n",
      "+----+-----+\n",
      "\n"
     ]
    }
   ],
   "source": [
    "# airport_data[airport_data['landed'] == 1].groupby('dest').size().sort_values(ascending=False)\n",
    "top_destinations = (airport_data\n",
    "                    .filter(col('landed') == 1)\n",
    "                    .groupBy('dest')\n",
    "                    .count()\n",
    "                    .orderBy('count', ascending=False)\n",
    "                    .limit(5))\n",
    "\n",
    "top_destinations.show()"
   ]
  },
  {
   "cell_type": "markdown",
   "metadata": {},
   "source": [
    "5. Qual é a rota mais frequente (par origin-dest)?"
   ]
  },
  {
   "cell_type": "code",
   "execution_count": 23,
   "metadata": {},
   "outputs": [
    {
     "name": "stdout",
     "output_type": "stream",
     "text": [
      "+----------+-----+\n",
      "|     route|count|\n",
      "+----------+-----+\n",
      "|{JFK, LAX}|11262|\n",
      "|{LGA, ATL}|10263|\n",
      "|{LGA, ORD}| 8857|\n",
      "|{JFK, SFO}| 8204|\n",
      "|{LGA, CLT}| 6168|\n",
      "+----------+-----+\n",
      "\n"
     ]
    }
   ],
   "source": [
    "# Cria uma tupla contendo (Origem, Destino) e conta as 5 que mais ocorrem\n",
    "airport_data = airport_data.withColumn('route', struct(col('origin'), col('dest')))\n",
    "\n",
    "top_routes = (airport_data\n",
    "              .groupBy('route')\n",
    "              .count()\n",
    "              .orderBy('count', ascending=False)\n",
    "              .limit(5))\n",
    "\n",
    "top_routes.show()"
   ]
  },
  {
   "cell_type": "markdown",
   "metadata": {},
   "source": [
    "6. Quais são as 5 companhias aéreas com maior tempo médio de atraso na chegada? (Exiba também o tempo)"
   ]
  },
  {
   "cell_type": "code",
   "execution_count": 26,
   "metadata": {},
   "outputs": [
    {
     "name": "stdout",
     "output_type": "stream",
     "text": [
      "+--------------------+------------------+\n",
      "|                name|    mean_arr_delay|\n",
      "+--------------------+------------------+\n",
      "|Frontier Airlines...|21.920704845814978|\n",
      "|AirTran Airways C...|20.115905511811025|\n",
      "|ExpressJet Airlin...| 15.79643108710965|\n",
      "|  Mesa Airlines Inc.|15.556985294117647|\n",
      "|SkyWest Airlines ...|11.931034482758621|\n",
      "+--------------------+------------------+\n",
      "\n"
     ]
    }
   ],
   "source": [
    "top_delays = (airport_data\n",
    "              .filter(col('landed') == 1)\n",
    "              .groupBy('name')\n",
    "              .agg(avg('arr_delay').alias('mean_arr_delay'))\n",
    "              .orderBy('mean_arr_delay', ascending=False)\n",
    "              .limit(5))\n",
    "\n",
    "top_delays.show()"
   ]
  },
  {
   "cell_type": "markdown",
   "metadata": {},
   "source": [
    "7. Qual é o dia da semana com maior número de voos? <br>\n",
    "R.: Segunda-feira"
   ]
  },
  {
   "cell_type": "code",
   "execution_count": 28,
   "metadata": {},
   "outputs": [
    {
     "name": "stdout",
     "output_type": "stream",
     "text": [
      "+---------+-----+\n",
      "| day_name|count|\n",
      "+---------+-----+\n",
      "|   Monday|49398|\n",
      "|  Tuesday|49223|\n",
      "|Wednesday|48753|\n",
      "|   Friday|48642|\n",
      "| Thursday|48568|\n",
      "|   Sunday|45583|\n",
      "| Saturday|37896|\n",
      "+---------+-----+\n",
      "\n"
     ]
    },
    {
     "name": "stderr",
     "output_type": "stream",
     "text": [
      "\r",
      "[Stage 33:=======>                                                  (1 + 7) / 8]\r",
      "\r",
      "                                                                                \r"
     ]
    }
   ],
   "source": [
    "# Deixando coluna em formato datetime\n",
    "airport_data = airport_data.withColumn('time_hour', to_timestamp(col('time_hour')))\n",
    "\n",
    "# Filtra os dados e conta os dias da semana\n",
    "day_counts = (airport_data\n",
    "              .filter(col('landed') == 1)\n",
    "              .groupBy(date_format(col('time_hour'), 'EEEE').alias('day_name'))\n",
    "              .count()\n",
    "              .orderBy('count', ascending=False))\n",
    "\n",
    "day_counts.show()"
   ]
  },
  {
   "cell_type": "markdown",
   "metadata": {},
   "source": [
    "8. Qual o percentual mensal dos voos tiveram atraso na partida superior a 30 minutos?"
   ]
  },
  {
   "cell_type": "code",
   "execution_count": 31,
   "metadata": {},
   "outputs": [
    {
     "name": "stderr",
     "output_type": "stream",
     "text": [
      "\r",
      "[Stage 37:>                                                         (0 + 8) / 8]\r",
      "\r",
      "[Stage 37:=======>                                                  (1 + 7) / 8]\r"
     ]
    },
    {
     "name": "stdout",
     "output_type": "stream",
     "text": [
      "+-----+------------------+\n",
      "|month|        percentage|\n",
      "+-----+------------------+\n",
      "|    1|12.405569545252556|\n",
      "|   10| 9.335733324102598|\n",
      "|   12|17.312955393637818|\n",
      "|   11| 8.757517969781428|\n",
      "|    3|14.944163140736629|\n",
      "|    2|12.752995871908942|\n",
      "|    4|15.993646311330744|\n",
      "|    6| 20.24218390397621|\n",
      "|    5|15.335463258785943|\n",
      "|    7| 20.97875955819881|\n",
      "|    9|  8.77275694494814|\n",
      "|    8|14.450847342039758|\n",
      "+-----+------------------+\n",
      "\n"
     ]
    },
    {
     "name": "stderr",
     "output_type": "stream",
     "text": [
      "\r",
      "                                                                                \r"
     ]
    }
   ],
   "source": [
    "airport_data = airport_data.withColumn('dep_delay', col('dep_delay').cast('float'))\n",
    "\n",
    "# Criação da nova coluna que indica atraso superior a 30 min\n",
    "airport_data = airport_data.withColumn('30_min_late_dep', when(col('dep_delay') > 30, 1).otherwise(0))\n",
    "\n",
    "# Agregação dos voos atrasados em mais de 30 min na decolagem, por mês\n",
    "late_departures_month = (airport_data\n",
    "                         .groupBy(month(col('time_hour')).alias('month'))\n",
    "                         .agg(spark_sum('30_min_late_dep').alias('late_departures')))\n",
    "\n",
    "# Agregação de todos os voos, por mês\n",
    "total_departures_month = (airport_data\n",
    "                          .groupBy(month(col('time_hour')).alias('month'))\n",
    "                          .agg(count('*').alias('total_departures')))\n",
    "\n",
    "# Juntando os dois DataFrames para calcular a porcentagem\n",
    "percentage_late_dep_month = late_departures_month.join(total_departures_month, 'month') \\\n",
    "    .withColumn('percentage', (col('late_departures') / col('total_departures')) * 100)\n",
    "\n",
    "# Exibindo os resultados\n",
    "percentage_late_dep_month.select('month', 'percentage').show()"
   ]
  },
  {
   "cell_type": "code",
   "execution_count": 32,
   "metadata": {},
   "outputs": [
    {
     "data": {
      "image/png": "[encoded data removed]",
      "text/plain": [
       "<Figure size 640x480 with 1 Axes>"
      ]
     },
     "metadata": {},
     "output_type": "display_data"
    }
   ],
   "source": [
    "data_to_plot = percentage_late_dep_month.toPandas()\n",
    "\n",
    "plt.bar(data_to_plot['month'], data_to_plot['percentage'])\n",
    "plt.xlabel('Mês')\n",
    "plt.ylabel('%% de voos > 30 min de atraso na decolagem')\n",
    "plt.show()"
   ]
  },
  {
   "cell_type": "markdown",
   "metadata": {},
   "source": [
    "9. Qual a origem mais comum para voos que pousaram em Seattle (SEA)?"
   ]
  },
  {
   "cell_type": "code",
   "execution_count": 33,
   "metadata": {},
   "outputs": [
    {
     "name": "stdout",
     "output_type": "stream",
     "text": [
      "+------+-----+\n",
      "|origin|count|\n",
      "+------+-----+\n",
      "|   JFK| 2092|\n",
      "|   EWR| 1831|\n",
      "+------+-----+\n",
      "\n"
     ]
    }
   ],
   "source": [
    "origin_counts = (airport_data\n",
    "                 .filter(col('dest') == 'SEA')\n",
    "                 .groupBy('origin')\n",
    "                 .count()\n",
    "                 .orderBy('count', ascending=False))\n",
    "\n",
    "origin_counts.show()"
   ]
  },
  {
   "cell_type": "markdown",
   "metadata": {},
   "source": [
    "10. Qual é a média de atraso na partida dos voos (dep_delay) para cada dia da\n",
    "semana?"
   ]
  },
  {
   "cell_type": "code",
   "execution_count": 34,
   "metadata": {},
   "outputs": [
    {
     "name": "stdout",
     "output_type": "stream",
     "text": [
      "+---------+------------------+\n",
      "| day_name|    mean_dep_delay|\n",
      "+---------+------------------+\n",
      "|   Friday| 14.69605749486653|\n",
      "|   Monday|14.778936729330908|\n",
      "| Saturday| 7.650502333676133|\n",
      "|   Sunday|11.589531801152422|\n",
      "| Thursday|16.148919990957108|\n",
      "|  Tuesday|10.631682565455652|\n",
      "|Wednesday|11.803512219083876|\n",
      "+---------+------------------+\n",
      "\n"
     ]
    }
   ],
   "source": [
    "average_dep_delay_by_day = (airport_data\n",
    "                             .groupBy(date_format(col('time_hour'), 'EEEE').alias('day_name'))\n",
    "                             .agg(avg('dep_delay').alias('mean_dep_delay'))\n",
    "                             .orderBy('day_name'))\n",
    "\n",
    "average_dep_delay_by_day.show()"
   ]
  },
  {
   "cell_type": "markdown",
   "metadata": {},
   "source": [
    "11. Qual é a rota que teve o maior tempo de voo médio (air_time)?"
   ]
  },
  {
   "cell_type": "code",
   "execution_count": 35,
   "metadata": {},
   "outputs": [
    {
     "name": "stdout",
     "output_type": "stream",
     "text": [
      "+----------+-----------------+\n",
      "|     route|    mean_air_time|\n",
      "+----------+-----------------+\n",
      "|{JFK, HNL}|623.0877192982456|\n",
      "|{EWR, HNL}| 612.075208913649|\n",
      "|{EWR, ANC}|          413.125|\n",
      "|{JFK, SFO}|347.4036256011839|\n",
      "|{JFK, SJC}|346.6067073170732|\n",
      "+----------+-----------------+\n",
      "\n"
     ]
    }
   ],
   "source": [
    "top_routes_air_time = (airport_data\n",
    "                       .filter(col('landed') == 1)\n",
    "                       .groupBy('route')\n",
    "                       .agg(avg('air_time').alias('mean_air_time'))\n",
    "                       .orderBy('mean_air_time', ascending=False)\n",
    "                       .limit(5))\n",
    "\n",
    "top_routes_air_time.show()"
   ]
  },
  {
   "cell_type": "markdown",
   "metadata": {},
   "source": [
    "Resposta: 623.08 minutos"
   ]
  },
  {
   "cell_type": "markdown",
   "metadata": {},
   "source": [
    "12. Para cada aeroporto de origem, qual é o aeroporto de destino mais comum?"
   ]
  },
  {
   "cell_type": "code",
   "execution_count": 37,
   "metadata": {},
   "outputs": [
    {
     "name": "stdout",
     "output_type": "stream",
     "text": [
      "+------+----+-----+\n",
      "|origin|dest|count|\n",
      "+------+----+-----+\n",
      "|   EWR| ORD| 6100|\n",
      "|   JFK| LAX|11262|\n",
      "|   LGA| ATL|10263|\n",
      "+------+----+-----+\n",
      "\n"
     ]
    }
   ],
   "source": [
    "aux = (airport_data\n",
    "       .groupBy('origin', 'dest')\n",
    "       .agg(count('*').alias('count')))\n",
    "\n",
    "# Definindo a janela para cada origem e ordenando por contagem\n",
    "window_spec = Window.partitionBy('origin').orderBy(col('count').desc())\n",
    "\n",
    "# Adicionando a numeração das linhas para encontrar o destino mais frequente\n",
    "aux_with_rank = aux.withColumn('rank', row_number().over(window_spec))\n",
    "\n",
    "# Filtrando para obter apenas o destino mais frequente para cada origem\n",
    "most_frequent_destinations = aux_with_rank.filter(col('rank') == 1).drop('rank')\n",
    "\n",
    "most_frequent_destinations.show()"
   ]
  },
  {
   "cell_type": "code",
   "execution_count": 38,
   "metadata": {},
   "outputs": [],
   "source": [
    "del aux"
   ]
  },
  {
   "cell_type": "markdown",
   "metadata": {},
   "source": [
    "13. Quais são as 3 rotas que tiveram a maior variação no tempo médio de voo (air_time)?"
   ]
  },
  {
   "cell_type": "code",
   "execution_count": 46,
   "metadata": {},
   "outputs": [
    {
     "name": "stdout",
     "output_type": "stream",
     "text": [
      "+----------+------------+------------+------------+\n",
      "|     route|min_air_time|max_air_time|var_air_time|\n",
      "+----------+------------+------------+------------+\n",
      "|{JFK, SFO}|       301.0|       490.0|       189.0|\n",
      "|{JFK, LAX}|       275.0|       440.0|       165.0|\n",
      "|{JFK, EGE}|       219.0|       382.0|       163.0|\n",
      "+----------+------------+------------+------------+\n",
      "only showing top 3 rows\n",
      "\n"
     ]
    }
   ],
   "source": [
    "# Encontrar tempos minimos e maximos de voo por rota\n",
    "routes = (airport_data\n",
    "          .groupBy('route')\n",
    "          .agg(min('air_time').alias('min_air_time'),\n",
    "               max('air_time').alias('max_air_time')))\n",
    "\n",
    "# Calculando a variância do tempo de voo\n",
    "routes = routes.withColumn('var_air_time', col('max_air_time') - col('min_air_time'))\n",
    "\n",
    "routes = routes.orderBy(col('var_air_time').desc())\n",
    "\n",
    "routes.show(3)"
   ]
  },
  {
   "cell_type": "markdown",
   "metadata": {},
   "source": [
    "14. Qual é a média de atraso na chegada para voos que tiveram atraso na partida superior a 1 hora?"
   ]
  },
  {
   "cell_type": "code",
   "execution_count": 47,
   "metadata": {},
   "outputs": [
    {
     "name": "stdout",
     "output_type": "stream",
     "text": [
      "+------------------+\n",
      "|    mean_arr_delay|\n",
      "+------------------+\n",
      "|119.04880549963919|\n",
      "+------------------+\n",
      "\n"
     ]
    }
   ],
   "source": [
    "# Criação da nova coluna que indica atraso superior a 60 min\n",
    "airport_data = airport_data.withColumn('60_min_late_dep', when(col('dep_delay') > 60, 1).otherwise(0))\n",
    "\n",
    "# Calculando a média de arr_delay para os voos com atraso superior a 60 min\n",
    "mean_arr_delay = (airport_data\n",
    "                  .filter(col('60_min_late_dep') == 1)\n",
    "                  .agg(avg('arr_delay').alias('mean_arr_delay')))\n",
    "\n",
    "mean_arr_delay.show()"
   ]
  },
  {
   "cell_type": "markdown",
   "metadata": {},
   "source": [
    "15. Qual é a média de voos diários para cada mês do ano?"
   ]
  },
  {
   "cell_type": "code",
   "execution_count": 49,
   "metadata": {},
   "outputs": [
    {
     "name": "stdout",
     "output_type": "stream",
     "text": [
      "+-----+-----------------+\n",
      "|month|      avg_flights|\n",
      "+-----+-----------------+\n",
      "|    1|853.8064516129032|\n",
      "|    2|            845.0|\n",
      "|    3|901.3870967741935|\n",
      "|    4|920.6666666666666|\n",
      "|    5| 909.516129032258|\n",
      "|    6|            905.7|\n",
      "|    7|915.5483870967741|\n",
      "|    8|929.7096774193549|\n",
      "|    9|902.3333333333334|\n",
      "|   10|923.9354838709677|\n",
      "|   11|            900.5|\n",
      "|   12|873.4193548387096|\n",
      "+-----+-----------------+\n",
      "\n"
     ]
    }
   ],
   "source": [
    "# Filtra os voos que aterrissaram\n",
    "flights_per_date = (airport_data\n",
    "                    .filter(col('landed') == 1)\n",
    "                    .groupBy(col('time_hour').cast('date').alias('date'))\n",
    "                    .agg(count('*').alias('flight_count')))\n",
    "\n",
    "# Agrupando por mês e calculando a média\n",
    "average_flights_per_month = (flights_per_date\n",
    "                              .groupBy(month(col('date')).alias('month'))\n",
    "                              .agg(avg('flight_count').alias('avg_flights')))\n",
    "\n",
    "average_flights_per_month.orderBy(col('month').asc()).show()"
   ]
  },
  {
   "cell_type": "markdown",
   "metadata": {},
   "source": [
    "16. Quais são as 3 rotas mais comuns que tiveram atrasos na chegada superiores a 30 minutos?"
   ]
  },
  {
   "cell_type": "code",
   "execution_count": 52,
   "metadata": {},
   "outputs": [
    {
     "name": "stdout",
     "output_type": "stream",
     "text": [
      "+----------+-----+\n",
      "|     route|count|\n",
      "+----------+-----+\n",
      "|{LGA, ATL}| 1563|\n",
      "|{JFK, LAX}| 1286|\n",
      "|{LGA, ORD}| 1188|\n",
      "+----------+-----+\n",
      "\n"
     ]
    }
   ],
   "source": [
    "airport_data = airport_data.withColumn('30_min_late_arr', when(col('arr_delay') > 30, 1).otherwise(0))\n",
    "\n",
    "# Contando os pousos com atraso superior a 30 min por rota\n",
    "late_arrivals_by_route = (airport_data\n",
    "                          .filter(col('30_min_late_arr') == 1)\n",
    "                          .groupBy('route')\n",
    "                          .agg(count('*').alias('count'))\n",
    "                          .orderBy(col('count').desc())\n",
    "                          .limit(3))\n",
    "\n",
    "late_arrivals_by_route.show()"
   ]
  },
  {
   "cell_type": "markdown",
   "metadata": {},
   "source": [
    "17. Para cada origem, qual o principal destino?"
   ]
  },
  {
   "cell_type": "markdown",
   "metadata": {},
   "source": [
    "R.: mesma pergunta da 12?"
   ]
  }
 ],
 "metadata": {
  "kernelspec": {
   "display_name": "Python 3 (ipykernel)",
   "language": "python",
   "name": "python3"
  },
  "language_info": {
   "codemirror_mode": {
    "name": "ipython",
    "version": 3
   },
   "file_extension": ".py",
   "mimetype": "text/x-python",
   "name": "python",
   "nbconvert_exporter": "python",
   "pygments_lexer": "ipython3",
   "version": "3.8.10"
  }
 },
 "nbformat": 4,
 "nbformat_minor": 2
}
