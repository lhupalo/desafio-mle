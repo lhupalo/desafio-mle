{
 "cells": [
  {
   "cell_type": "code",
   "execution_count": 1,
   "metadata": {},
   "outputs": [
    {
     "name": "stderr",
     "output_type": "stream",
     "text": [
      "24/09/22 19:35:06 WARN SparkSession: Using an existing Spark session; only runtime SQL configurations will take effect.\n"
     ]
    }
   ],
   "source": [
    "from pyspark.sql import SparkSession\n",
    "spark = SparkSession.builder.appName(\"Data Analysis\").getOrCreate()\n",
    "import matplotlib.pyplot as plt"
   ]
  },
  {
   "cell_type": "markdown",
   "metadata": {},
   "source": [
    "# Análise do dataset"
   ]
  },
  {
   "cell_type": "code",
   "execution_count": 2,
   "metadata": {},
   "outputs": [
    {
     "name": "stderr",
     "output_type": "stream",
     "text": [
      "                                                                                \r"
     ]
    }
   ],
   "source": [
    "# Carregando dados\n",
    "airport_data = spark.read.csv('./../data/airports-database.csv', header=True, inferSchema=True)"
   ]
  },
  {
   "cell_type": "code",
   "execution_count": 3,
   "metadata": {},
   "outputs": [
    {
     "name": "stdout",
     "output_type": "stream",
     "text": [
      "['id', 'year', 'month', 'day', 'dep_time', 'sched_dep_time', 'dep_delay', 'arr_time', 'sched_arr_time', 'arr_delay', 'carrier', 'flight', 'tailnum', 'origin', 'dest', 'air_time', 'distance', 'hour', 'minute', 'time_hour', 'name']\n"
     ]
    }
   ],
   "source": [
    "# Visualizando a \"cara\" dos dados: colunas\n",
    "print(airport_data.columns)"
   ]
  },
  {
   "cell_type": "code",
   "execution_count": 4,
   "metadata": {},
   "outputs": [],
   "source": [
    "from pyspark.sql.functions import col, when, struct, avg, to_timestamp, date_format, month, row_number, min, max\n",
    "from pyspark.sql.window import Window"
   ]
  },
  {
   "cell_type": "markdown",
   "metadata": {},
   "source": [
    "Alguns pré-processamentos"
   ]
  },
  {
   "cell_type": "code",
   "execution_count": 5,
   "metadata": {},
   "outputs": [],
   "source": [
    "# Voos cancelados: todos que NUNCA DECOLARAM e que NUNCA POUSARAM\n",
    "airport_data = airport_data.withColumn(\n",
    "    'cancelled',\n",
    "    when(col('dep_time').isNull() & col('arr_time').isNull(), 1).otherwise(0)\n",
    ")"
   ]
  },
  {
   "cell_type": "code",
   "execution_count": 6,
   "metadata": {},
   "outputs": [],
   "source": [
    "# Voos desviados: todos que DECOLARAM mas NUNCA POUSARAM (no lugar previsto)\n",
    "airport_data = airport_data.withColumn(\n",
    "    'diverted',\n",
    "    when((col('cancelled') == 0) & col('arr_time').isNull(), 1).otherwise(0)\n",
    ")"
   ]
  },
  {
   "cell_type": "code",
   "execution_count": 7,
   "metadata": {},
   "outputs": [],
   "source": [
    "# Voos finalizados: todos os que DECOLARAM e POUSARAM no lugar previsto\n",
    "airport_data = airport_data.withColumn(\n",
    "    'landed',\n",
    "    when(col('dep_time').isNotNull() & col('arr_time').isNotNull(), 1).otherwise(0)\n",
    ")"
   ]
  },
  {
   "cell_type": "markdown",
   "metadata": {},
   "source": [
    "# Respostas para as perguntas"
   ]
  },
  {
   "cell_type": "markdown",
   "metadata": {},
   "source": [
    "1. Qual é o numero total de voos no conjunto de dados? <br>\n",
    "2. Quantos voos foram cancelados?"
   ]
  },
  {
   "cell_type": "code",
   "execution_count": 8,
   "metadata": {},
   "outputs": [],
   "source": [
    "from pyspark.sql.functions import sum as spark_sum, count"
   ]
  },
  {
   "cell_type": "code",
   "execution_count": 9,
   "metadata": {},
   "outputs": [
    {
     "name": "stderr",
     "output_type": "stream",
     "text": [
      "\r",
      "[Stage 2:==============>                                            (2 + 6) / 8]\r",
      "\r",
      "                                                                                \r"
     ]
    },
    {
     "name": "stdout",
     "output_type": "stream",
     "text": [
      "Voos cancelados: 8255\n",
      "Voos desviados: 458\n",
      "Voos concluídos: 328063\n",
      "\n",
      "Total de voos: 336776\n",
      "Tamanho total do dataset: 336776\n"
     ]
    }
   ],
   "source": [
    "cancelled_flights = airport_data.select(spark_sum('cancelled')).collect()[0][0]\n",
    "print(f'Voos cancelados: {cancelled_flights}')\n",
    "\n",
    "diverted_flights = airport_data.select(spark_sum('diverted')).collect()[0][0]\n",
    "print(f'Voos desviados: {diverted_flights}')\n",
    "\n",
    "landed_flights = airport_data.select(spark_sum('landed')).collect()[0][0]\n",
    "print(f'Voos concluídos: {landed_flights}')\n",
    "\n",
    "total_flights = cancelled_flights + diverted_flights + landed_flights\n",
    "print(f'\\nTotal de voos: {total_flights}')\n",
    "\n",
    "dataset_size = airport_data.count()\n",
    "print(f'Tamanho total do dataset: {dataset_size}')"
   ]
  },
  {
   "cell_type": "markdown",
   "metadata": {},
   "source": [
    "3. Qual o atraso médio na partida dos voos? (em minutos)"
   ]
  },
  {
   "cell_type": "code",
   "execution_count": 10,
   "metadata": {},
   "outputs": [
    {
     "name": "stdout",
     "output_type": "stream",
     "text": [
      "Média do atraso na decolagem para voos que pousaram: 12.575974736559747\n"
     ]
    }
   ],
   "source": [
    "from pyspark.sql.functions import mean\n",
    "\n",
    "# Considerando todos os voos concluídos com sucesso:\n",
    "average_dep_delay = airport_data.filter(col('landed') == 1).select(mean('dep_delay')).collect()[0][0]\n",
    "\n",
    "print(f'Média do atraso na decolagem para voos que pousaram: {average_dep_delay}')"
   ]
  },
  {
   "cell_type": "markdown",
   "metadata": {},
   "source": [
    "4. Quais são os 5 aeroportos com maior número de pousos?"
   ]
  },
  {
   "cell_type": "code",
   "execution_count": 11,
   "metadata": {},
   "outputs": [
    {
     "name": "stderr",
     "output_type": "stream",
     "text": [
      "\r",
      "[Stage 17:=======>                                                  (1 + 7) / 8]\r",
      "\r",
      "                                                                                \r"
     ]
    },
    {
     "name": "stdout",
     "output_type": "stream",
     "text": [
      "+----+-----+\n",
      "|dest|count|\n",
      "+----+-----+\n",
      "| ATL|16873|\n",
      "| ORD|16607|\n",
      "| LAX|16058|\n",
      "| BOS|15028|\n",
      "| MCO|13979|\n",
      "+----+-----+\n",
      "\n"
     ]
    }
   ],
   "source": [
    "# airport_data[airport_data['landed'] == 1].groupby('dest').size().sort_values(ascending=False)\n",
    "top_destinations = (airport_data\n",
    "                    .filter(col('landed') == 1)\n",
    "                    .groupBy('dest')\n",
    "                    .count()\n",
    "                    .orderBy('count', ascending=False)\n",
    "                    .limit(5))\n",
    "\n",
    "top_destinations.show()"
   ]
  },
  {
   "cell_type": "markdown",
   "metadata": {},
   "source": [
    "5. Qual é a rota mais frequente (par origin-dest)?"
   ]
  },
  {
   "cell_type": "code",
   "execution_count": 12,
   "metadata": {},
   "outputs": [
    {
     "name": "stdout",
     "output_type": "stream",
     "text": [
      "+----------+-----+\n",
      "|     route|count|\n",
      "+----------+-----+\n",
      "|{JFK, LAX}|11262|\n",
      "|{LGA, ATL}|10263|\n",
      "|{LGA, ORD}| 8857|\n",
      "|{JFK, SFO}| 8204|\n",
      "|{LGA, CLT}| 6168|\n",
      "+----------+-----+\n",
      "\n"
     ]
    }
   ],
   "source": [
    "# Cria uma tupla contendo (Origem, Destino) e conta as 5 que mais ocorrem\n",
    "airport_data = airport_data.withColumn('route', struct(col('origin'), col('dest')))\n",
    "\n",
    "top_routes = (airport_data\n",
    "              .groupBy('route')\n",
    "              .count()\n",
    "              .orderBy('count', ascending=False)\n",
    "              .limit(5))\n",
    "\n",
    "top_routes.show()"
   ]
  },
  {
   "cell_type": "markdown",
   "metadata": {},
   "source": [
    "6. Quais são as 5 companhias aéreas com maior tempo médio de atraso na chegada? (Exiba também o tempo)"
   ]
  },
  {
   "cell_type": "code",
   "execution_count": 13,
   "metadata": {},
   "outputs": [
    {
     "name": "stdout",
     "output_type": "stream",
     "text": [
      "+--------------------+------------------+\n",
      "|                name|    mean_arr_delay|\n",
      "+--------------------+------------------+\n",
      "|Frontier Airlines...|21.920704845814978|\n",
      "|AirTran Airways C...|20.115905511811025|\n",
      "|ExpressJet Airlin...| 15.79643108710965|\n",
      "|  Mesa Airlines Inc.|15.556985294117647|\n",
      "|SkyWest Airlines ...|11.931034482758621|\n",
      "+--------------------+------------------+\n",
      "\n"
     ]
    }
   ],
   "source": [
    "top_delays = (airport_data\n",
    "              .filter(col('landed') == 1)\n",
    "              .groupBy('name')\n",
    "              .agg(avg('arr_delay').alias('mean_arr_delay'))\n",
    "              .orderBy('mean_arr_delay', ascending=False)\n",
    "              .limit(5))\n",
    "\n",
    "top_delays.show()"
   ]
  },
  {
   "cell_type": "markdown",
   "metadata": {},
   "source": [
    "7. Qual é o dia da semana com maior número de voos? <br>\n",
    "R.: Segunda-feira"
   ]
  },
  {
   "cell_type": "code",
   "execution_count": 14,
   "metadata": {},
   "outputs": [
    {
     "name": "stdout",
     "output_type": "stream",
     "text": [
      "+---------+-----+\n",
      "| day_name|count|\n",
      "+---------+-----+\n",
      "|   Monday|49398|\n",
      "|  Tuesday|49223|\n",
      "|Wednesday|48753|\n",
      "|   Friday|48642|\n",
      "| Thursday|48568|\n",
      "|   Sunday|45583|\n",
      "| Saturday|37896|\n",
      "+---------+-----+\n",
      "\n"
     ]
    },
    {
     "name": "stderr",
     "output_type": "stream",
     "text": [
      "\r",
      "[Stage 26:=============================>                            (4 + 4) / 8]\r",
      "\r",
      "                                                                                \r"
     ]
    }
   ],
   "source": [
    "# Deixando coluna em formato datetime\n",
    "airport_data = airport_data.withColumn('time_hour', to_timestamp(col('time_hour')))\n",
    "\n",
    "# Filtra os dados e conta os dias da semana\n",
    "day_counts = (airport_data\n",
    "              .filter(col('landed') == 1)\n",
    "              .groupBy(date_format(col('time_hour'), 'EEEE').alias('day_name'))\n",
    "              .count()\n",
    "              .orderBy('count', ascending=False))\n",
    "\n",
    "day_counts.show()"
   ]
  },
  {
   "cell_type": "markdown",
   "metadata": {},
   "source": [
    "8. Qual o percentual mensal dos voos tiveram atraso na partida superior a 30 minutos?"
   ]
  },
  {
   "cell_type": "code",
   "execution_count": 15,
   "metadata": {},
   "outputs": [
    {
     "name": "stderr",
     "output_type": "stream",
     "text": [
      "\r",
      "[Stage 29:=============>    (6 + 2) / 8][Stage 30:>                 (0 + 6) / 8]\r",
      "\r",
      "[Stage 30:=====================>                                    (3 + 5) / 8]\r"
     ]
    },
    {
     "name": "stdout",
     "output_type": "stream",
     "text": [
      "+-----+------------------+\n",
      "|month|        percentage|\n",
      "+-----+------------------+\n",
      "|    1|12.405569545252556|\n",
      "|   10| 9.335733324102598|\n",
      "|   12|17.312955393637818|\n",
      "|   11| 8.757517969781428|\n",
      "|    3|14.944163140736629|\n",
      "|    2|12.752995871908942|\n",
      "|    4|15.993646311330744|\n",
      "|    6| 20.24218390397621|\n",
      "|    5|15.335463258785943|\n",
      "|    7| 20.97875955819881|\n",
      "|    9|  8.77275694494814|\n",
      "|    8|14.450847342039758|\n",
      "+-----+------------------+\n",
      "\n"
     ]
    },
    {
     "name": "stderr",
     "output_type": "stream",
     "text": [
      "\r",
      "                                                                                \r"
     ]
    }
   ],
   "source": [
    "airport_data = airport_data.withColumn('dep_delay', col('dep_delay').cast('float'))\n",
    "\n",
    "# Criação da nova coluna que indica atraso superior a 30 min\n",
    "airport_data = airport_data.withColumn('30_min_late_dep', when(col('dep_delay') > 30, 1).otherwise(0))\n",
    "\n",
    "# Agregação dos voos atrasados em mais de 30 min na decolagem, por mês\n",
    "late_departures_month = (airport_data\n",
    "                         .groupBy(month(col('time_hour')).alias('month'))\n",
    "                         .agg(spark_sum('30_min_late_dep').alias('late_departures')))\n",
    "\n",
    "# Agregação de todos os voos, por mês\n",
    "total_departures_month = (airport_data\n",
    "                          .groupBy(month(col('time_hour')).alias('month'))\n",
    "                          .agg(count('*').alias('total_departures')))\n",
    "\n",
    "# Juntando os dois DataFrames para calcular a porcentagem\n",
    "percentage_late_dep_month = late_departures_month.join(total_departures_month, 'month') \\\n",
    "    .withColumn('percentage', (col('late_departures') / col('total_departures')) * 100)\n",
    "\n",
    "# Exibindo os resultados\n",
    "percentage_late_dep_month.select('month', 'percentage').show()"
   ]
  },
  {
   "cell_type": "code",
   "execution_count": 16,
   "metadata": {},
   "outputs": [
    {
     "name": "stderr",
     "output_type": "stream",
     "text": [
      "\r",
      "[Stage 36:=============================>                            (4 + 4) / 8]\r",
      "\r",
      "                                                                                \r"
     ]
    },
    {
     "data": {
      "image/png": "[encoded data removed]",
      "text/plain": [
       "<Figure size 640x480 with 1 Axes>"
      ]
     },
     "metadata": {},
     "output_type": "display_data"
    }
   ],
   "source": [
    "data_to_plot = percentage_late_dep_month.toPandas()\n",
    "\n",
    "plt.bar(data_to_plot['month'], data_to_plot['percentage'])\n",
    "plt.xlabel('Mês')\n",
    "plt.ylabel('%% de voos > 30 min de atraso na decolagem')\n",
    "plt.show()"
   ]
  },
  {
   "cell_type": "markdown",
   "metadata": {},
   "source": [
    "9. Qual a origem mais comum para voos que pousaram em Seattle (SEA)?"
   ]
  },
  {
   "cell_type": "code",
   "execution_count": 17,
   "metadata": {},
   "outputs": [
    {
     "name": "stdout",
     "output_type": "stream",
     "text": [
      "+------+-----+\n",
      "|origin|count|\n",
      "+------+-----+\n",
      "|   JFK| 2092|\n",
      "|   EWR| 1831|\n",
      "+------+-----+\n",
      "\n"
     ]
    }
   ],
   "source": [
    "origin_counts = (airport_data\n",
    "                 .filter(col('dest') == 'SEA')\n",
    "                 .groupBy('origin')\n",
    "                 .count()\n",
    "                 .orderBy('count', ascending=False))\n",
    "\n",
    "origin_counts.show()"
   ]
  },
  {
   "cell_type": "markdown",
   "metadata": {},
   "source": [
    "10. Qual é a média de atraso na partida dos voos (dep_delay) para cada dia da\n",
    "semana?"
   ]
  },
  {
   "cell_type": "code",
   "execution_count": 18,
   "metadata": {},
   "outputs": [
    {
     "name": "stdout",
     "output_type": "stream",
     "text": [
      "+---------+------------------+\n",
      "| day_name|    mean_dep_delay|\n",
      "+---------+------------------+\n",
      "|   Friday| 14.69605749486653|\n",
      "|   Monday|14.778936729330908|\n",
      "| Saturday| 7.650502333676133|\n",
      "|   Sunday|11.589531801152422|\n",
      "| Thursday|16.148919990957108|\n",
      "|  Tuesday|10.631682565455652|\n",
      "|Wednesday|11.803512219083876|\n",
      "+---------+------------------+\n",
      "\n"
     ]
    }
   ],
   "source": [
    "average_dep_delay_by_day = (airport_data\n",
    "                             .groupBy(date_format(col('time_hour'), 'EEEE').alias('day_name'))\n",
    "                             .agg(avg('dep_delay').alias('mean_dep_delay'))\n",
    "                             .orderBy('day_name'))\n",
    "\n",
    "average_dep_delay_by_day.show()"
   ]
  },
  {
   "cell_type": "markdown",
   "metadata": {},
   "source": [
    "11. Qual é a rota que teve o maior tempo de voo médio (air_time)?"
   ]
  },
  {
   "cell_type": "code",
   "execution_count": 19,
   "metadata": {},
   "outputs": [
    {
     "name": "stdout",
     "output_type": "stream",
     "text": [
      "+----------+-----------------+\n",
      "|     route|    mean_air_time|\n",
      "+----------+-----------------+\n",
      "|{JFK, HNL}|623.0877192982456|\n",
      "|{EWR, HNL}| 612.075208913649|\n",
      "|{EWR, ANC}|          413.125|\n",
      "|{JFK, SFO}|347.4036256011839|\n",
      "|{JFK, SJC}|346.6067073170732|\n",
      "+----------+-----------------+\n",
      "\n"
     ]
    }
   ],
   "source": [
    "top_routes_air_time = (airport_data\n",
    "                       .filter(col('landed') == 1)\n",
    "                       .groupBy('route')\n",
    "                       .agg(avg('air_time').alias('mean_air_time'))\n",
    "                       .orderBy('mean_air_time', ascending=False)\n",
    "                       .limit(5))\n",
    "\n",
    "top_routes_air_time.show()"
   ]
  },
  {
   "cell_type": "markdown",
   "metadata": {},
   "source": [
    "Resposta: 623.08 minutos"
   ]
  },
  {
   "cell_type": "markdown",
   "metadata": {},
   "source": [
    "12. Para cada aeroporto de origem, qual é o aeroporto de destino mais comum?"
   ]
  },
  {
   "cell_type": "code",
   "execution_count": 20,
   "metadata": {},
   "outputs": [
    {
     "name": "stdout",
     "output_type": "stream",
     "text": [
      "+------+----+-----+\n",
      "|origin|dest|count|\n",
      "+------+----+-----+\n",
      "|   EWR| ORD| 6100|\n",
      "|   JFK| LAX|11262|\n",
      "|   LGA| ATL|10263|\n",
      "+------+----+-----+\n",
      "\n"
     ]
    }
   ],
   "source": [
    "aux = (airport_data\n",
    "       .groupBy('origin', 'dest')\n",
    "       .agg(count('*').alias('count')))\n",
    "\n",
    "# Definindo a janela para cada origem e ordenando por contagem\n",
    "window_spec = Window.partitionBy('origin').orderBy(col('count').desc())\n",
    "\n",
    "# Adicionando a numeração das linhas para encontrar o destino mais frequente\n",
    "aux_with_rank = aux.withColumn('rank', row_number().over(window_spec))\n",
    "\n",
    "# Filtrando para obter apenas o destino mais frequente para cada origem\n",
    "most_frequent_destinations = aux_with_rank.filter(col('rank') == 1).drop('rank')\n",
    "\n",
    "most_frequent_destinations.show()"
   ]
  },
  {
   "cell_type": "code",
   "execution_count": 21,
   "metadata": {},
   "outputs": [],
   "source": [
    "del aux"
   ]
  },
  {
   "cell_type": "markdown",
   "metadata": {},
   "source": [
    "13. Quais são as 3 rotas que tiveram a maior variação no tempo médio de voo (air_time)?"
   ]
  },
  {
   "cell_type": "code",
   "execution_count": 22,
   "metadata": {},
   "outputs": [
    {
     "name": "stdout",
     "output_type": "stream",
     "text": [
      "+----------+------------+------------+------------+\n",
      "|     route|min_air_time|max_air_time|var_air_time|\n",
      "+----------+------------+------------+------------+\n",
      "|{JFK, SFO}|       301.0|       490.0|       189.0|\n",
      "|{JFK, LAX}|       275.0|       440.0|       165.0|\n",
      "|{JFK, EGE}|       219.0|       382.0|       163.0|\n",
      "+----------+------------+------------+------------+\n",
      "only showing top 3 rows\n",
      "\n"
     ]
    }
   ],
   "source": [
    "# Encontrar tempos minimos e maximos de voo por rota\n",
    "routes = (airport_data\n",
    "          .groupBy('route')\n",
    "          .agg(min('air_time').alias('min_air_time'),\n",
    "               max('air_time').alias('max_air_time')))\n",
    "\n",
    "# Calculando a variância do tempo de voo\n",
    "routes = routes.withColumn('var_air_time', col('max_air_time') - col('min_air_time'))\n",
    "\n",
    "routes = routes.orderBy(col('var_air_time').desc())\n",
    "\n",
    "routes.show(3)"
   ]
  },
  {
   "cell_type": "markdown",
   "metadata": {},
   "source": [
    "14. Qual é a média de atraso na chegada para voos que tiveram atraso na partida superior a 1 hora?"
   ]
  },
  {
   "cell_type": "code",
   "execution_count": 23,
   "metadata": {},
   "outputs": [
    {
     "name": "stdout",
     "output_type": "stream",
     "text": [
      "+------------------+\n",
      "|    mean_arr_delay|\n",
      "+------------------+\n",
      "|119.04880549963919|\n",
      "+------------------+\n",
      "\n"
     ]
    }
   ],
   "source": [
    "# Criação da nova coluna que indica atraso superior a 60 min\n",
    "airport_data = airport_data.withColumn('60_min_late_dep', when(col('dep_delay') > 60, 1).otherwise(0))\n",
    "\n",
    "# Calculando a média de arr_delay para os voos com atraso superior a 60 min\n",
    "mean_arr_delay = (airport_data\n",
    "                  .filter(col('60_min_late_dep') == 1)\n",
    "                  .agg(avg('arr_delay').alias('mean_arr_delay')))\n",
    "\n",
    "mean_arr_delay.show()"
   ]
  },
  {
   "cell_type": "markdown",
   "metadata": {},
   "source": [
    "15. Qual é a média de voos diários para cada mês do ano?"
   ]
  },
  {
   "cell_type": "code",
   "execution_count": 24,
   "metadata": {},
   "outputs": [
    {
     "name": "stdout",
     "output_type": "stream",
     "text": [
      "+-----+-----------------+\n",
      "|month|      avg_flights|\n",
      "+-----+-----------------+\n",
      "|    1|853.8064516129032|\n",
      "|    2|            845.0|\n",
      "|    3|901.3870967741935|\n",
      "|    4|920.6666666666666|\n",
      "|    5| 909.516129032258|\n",
      "|    6|            905.7|\n",
      "|    7|915.5483870967741|\n",
      "|    8|929.7096774193549|\n",
      "|    9|902.3333333333334|\n",
      "|   10|923.9354838709677|\n",
      "|   11|            900.5|\n",
      "|   12|873.4193548387096|\n",
      "+-----+-----------------+\n",
      "\n"
     ]
    }
   ],
   "source": [
    "# Filtra os voos que aterrissaram\n",
    "flights_per_date = (airport_data\n",
    "                    .filter(col('landed') == 1)\n",
    "                    .groupBy(col('time_hour').cast('date').alias('date'))\n",
    "                    .agg(count('*').alias('flight_count')))\n",
    "\n",
    "# Agrupando por mês e calculando a média\n",
    "average_flights_per_month = (flights_per_date\n",
    "                              .groupBy(month(col('date')).alias('month'))\n",
    "                              .agg(avg('flight_count').alias('avg_flights')))\n",
    "\n",
    "average_flights_per_month.orderBy(col('month').asc()).show()"
   ]
  },
  {
   "cell_type": "markdown",
   "metadata": {},
   "source": [
    "16. Quais são as 3 rotas mais comuns que tiveram atrasos na chegada superiores a 30 minutos?"
   ]
  },
  {
   "cell_type": "code",
   "execution_count": 25,
   "metadata": {},
   "outputs": [
    {
     "name": "stdout",
     "output_type": "stream",
     "text": [
      "+----------+-----+\n",
      "|     route|count|\n",
      "+----------+-----+\n",
      "|{LGA, ATL}| 1563|\n",
      "|{JFK, LAX}| 1286|\n",
      "|{LGA, ORD}| 1188|\n",
      "+----------+-----+\n",
      "\n"
     ]
    }
   ],
   "source": [
    "airport_data = airport_data.withColumn('30_min_late_arr', when(col('arr_delay') > 30, 1).otherwise(0))\n",
    "\n",
    "# Contando os pousos com atraso superior a 30 min por rota\n",
    "late_arrivals_by_route = (airport_data\n",
    "                          .filter(col('30_min_late_arr') == 1)\n",
    "                          .groupBy('route')\n",
    "                          .agg(count('*').alias('count'))\n",
    "                          .orderBy(col('count').desc())\n",
    "                          .limit(3))\n",
    "\n",
    "late_arrivals_by_route.show()"
   ]
  },
  {
   "cell_type": "markdown",
   "metadata": {},
   "source": [
    "17. Para cada origem, qual o principal destino?"
   ]
  },
  {
   "cell_type": "markdown",
   "metadata": {},
   "source": [
    "R.: mesma pergunta da 12?"
   ]
  },
  {
   "cell_type": "markdown",
   "metadata": {},
   "source": [
    "# Enriquecendo a base de dados"
   ]
  },
  {
   "cell_type": "code",
   "execution_count": 26,
   "metadata": {},
   "outputs": [],
   "source": [
    "# airport_db_token\n",
    "airportdb_key = '9ff3a12579d75f31c71b87daa7b8d18b4d27231f22a57db4a84b6350274c91e7fa5c9b8653d9194d1cbf754a2a662a12'"
   ]
  },
  {
   "cell_type": "code",
   "execution_count": 27,
   "metadata": {},
   "outputs": [],
   "source": [
    "unique_origins = airport_data.select('origin').distinct()\n",
    "unique_dests = airport_data.select('dest').distinct()\n",
    "\n",
    "# Une os dois DataFrames\n",
    "unique_airports = unique_origins.union(unique_dests).distinct()\n",
    "\n",
    "# Coloca tudo numa so lista\n",
    "airports = [row['origin'] for row in unique_airports.collect()]"
   ]
  },
  {
   "cell_type": "code",
   "execution_count": 28,
   "metadata": {},
   "outputs": [],
   "source": [
    "from pyspark.sql import Row\n",
    "\n",
    "airport_rows = [Row(airport=airport, latitude_deg=0, longitude_deg=0) for airport in airports]\n",
    "\n",
    "# Dataframe de aeroportos\n",
    "airport_df = spark.createDataFrame(airport_rows)"
   ]
  },
  {
   "cell_type": "code",
   "execution_count": 29,
   "metadata": {},
   "outputs": [
    {
     "data": {
      "text/plain": [
       "{'ident': 'KJFK',\n",
       " 'type': 'large_airport',\n",
       " 'name': 'John F Kennedy International Airport',\n",
       " 'latitude_deg': 40.639801,\n",
       " 'longitude_deg': -73.7789,\n",
       " 'elevation_ft': '13',\n",
       " 'continent': 'NA',\n",
       " 'iso_country': 'US',\n",
       " 'iso_region': 'US-NY',\n",
       " 'municipality': 'New York',\n",
       " 'scheduled_service': 'yes',\n",
       " 'gps_code': 'KJFK',\n",
       " 'iata_code': 'JFK',\n",
       " 'local_code': 'JFK',\n",
       " 'home_link': 'https://www.jfkairport.com/',\n",
       " 'wikipedia_link': 'https://en.wikipedia.org/wiki/John_F._Kennedy_International_Airport',\n",
       " 'keywords': 'Manhattan, New York City, NYC, Idlewild',\n",
       " 'icao_code': 'KJFK',\n",
       " 'runways': [{'id': '244968',\n",
       "   'airport_ref': '3622',\n",
       "   'airport_ident': 'KJFK',\n",
       "   'length_ft': '12079',\n",
       "   'width_ft': '200',\n",
       "   'surface': 'Concrete - Grooved',\n",
       "   'lighted': '1',\n",
       "   'closed': '0',\n",
       "   'le_ident': '04L',\n",
       "   'le_latitude_deg': '40.622',\n",
       "   'le_longitude_deg': '-73.7856',\n",
       "   'le_elevation_ft': '12',\n",
       "   'le_heading_degT': '31',\n",
       "   'le_displaced_threshold_ft': '',\n",
       "   'he_ident': '22R',\n",
       "   'he_latitude_deg': '40.6488',\n",
       "   'he_longitude_deg': '-73.7647',\n",
       "   'he_elevation_ft': '13',\n",
       "   'he_heading_degT': '211',\n",
       "   'he_displaced_threshold_ft': '2696',\n",
       "   'he_ils': {'freq': 109.5, 'course': 224},\n",
       "   'le_ils': {'freq': 110.9, 'course': 44}},\n",
       "  {'id': '244967',\n",
       "   'airport_ref': '3622',\n",
       "   'airport_ident': 'KJFK',\n",
       "   'length_ft': '8400',\n",
       "   'width_ft': '200',\n",
       "   'surface': 'ASP',\n",
       "   'lighted': '1',\n",
       "   'closed': '0',\n",
       "   'le_ident': '04R',\n",
       "   'le_latitude_deg': '40.6254',\n",
       "   'le_longitude_deg': '-73.7703',\n",
       "   'le_elevation_ft': '13',\n",
       "   'le_heading_degT': '30.6',\n",
       "   'le_displaced_threshold_ft': '',\n",
       "   'he_ident': '22L',\n",
       "   'he_latitude_deg': '40.6452',\n",
       "   'he_longitude_deg': '-73.7549',\n",
       "   'he_elevation_ft': '13',\n",
       "   'he_heading_degT': '210.6',\n",
       "   'he_displaced_threshold_ft': '',\n",
       "   'he_ils': {'freq': 110.9, 'course': 224},\n",
       "   'le_ils': {'freq': 109.5, 'course': 44}},\n",
       "  {'id': '244970',\n",
       "   'airport_ref': '3622',\n",
       "   'airport_ident': 'KJFK',\n",
       "   'length_ft': '10000',\n",
       "   'width_ft': '200',\n",
       "   'surface': 'Concrete',\n",
       "   'lighted': '1',\n",
       "   'closed': '0',\n",
       "   'le_ident': '13L',\n",
       "   'le_latitude_deg': '40.6578',\n",
       "   'le_longitude_deg': '-73.7902',\n",
       "   'le_elevation_ft': '13',\n",
       "   'le_heading_degT': '121',\n",
       "   'le_displaced_threshold_ft': '905',\n",
       "   'he_ident': '31R',\n",
       "   'he_latitude_deg': '40.6437',\n",
       "   'he_longitude_deg': '-73.7593',\n",
       "   'he_elevation_ft': '13',\n",
       "   'he_heading_degT': '301',\n",
       "   'he_displaced_threshold_ft': '1030',\n",
       "   'he_ils': {'freq': 111.5, 'course': 314},\n",
       "   'le_ils': {'freq': 111.5, 'course': 134}},\n",
       "  {'id': '244969',\n",
       "   'airport_ref': '3622',\n",
       "   'airport_ident': 'KJFK',\n",
       "   'length_ft': '14511',\n",
       "   'width_ft': '200',\n",
       "   'surface': 'Concrete',\n",
       "   'lighted': '1',\n",
       "   'closed': '0',\n",
       "   'le_ident': '13R',\n",
       "   'le_latitude_deg': '40.6484',\n",
       "   'le_longitude_deg': '-73.8167',\n",
       "   'le_elevation_ft': '13',\n",
       "   'le_heading_degT': '121',\n",
       "   'le_displaced_threshold_ft': '2043',\n",
       "   'he_ident': '31L',\n",
       "   'he_latitude_deg': '40.6279',\n",
       "   'he_longitude_deg': '-73.7716',\n",
       "   'he_elevation_ft': '13',\n",
       "   'he_heading_degT': '301',\n",
       "   'he_displaced_threshold_ft': '3263',\n",
       "   'he_ils': {'freq': 111.35, 'course': 314}}],\n",
       " 'freqs': [{'id': '69293',\n",
       "   'airport_ref': '3622',\n",
       "   'airport_ident': 'KJFK',\n",
       "   'type': 'APP',\n",
       "   'description': 'NEW YORK APP (ROBER)',\n",
       "   'frequency_mhz': '125.7'},\n",
       "  {'id': '301312',\n",
       "   'airport_ref': '3622',\n",
       "   'airport_ident': 'KJFK',\n",
       "   'type': 'APP',\n",
       "   'description': 'NEW YORK APPROACH (CAMRN)',\n",
       "   'frequency_mhz': '127.4'},\n",
       "  {'id': '301313',\n",
       "   'airport_ref': '3622',\n",
       "   'airport_ident': 'KJFK',\n",
       "   'type': 'APP',\n",
       "   'description': 'NEW YORK APPROACH (FINAL)',\n",
       "   'frequency_mhz': '132.4'},\n",
       "  {'id': '69294',\n",
       "   'airport_ref': '3622',\n",
       "   'airport_ident': 'KJFK',\n",
       "   'type': 'ATIS',\n",
       "   'description': 'ATIS',\n",
       "   'frequency_mhz': '115.1'},\n",
       "  {'id': '69295',\n",
       "   'airport_ref': '3622',\n",
       "   'airport_ident': 'KJFK',\n",
       "   'type': 'CLD',\n",
       "   'description': 'CLNC DEL',\n",
       "   'frequency_mhz': '135.05'},\n",
       "  {'id': '69296',\n",
       "   'airport_ref': '3622',\n",
       "   'airport_ident': 'KJFK',\n",
       "   'type': 'DEP',\n",
       "   'description': 'NEW YORK DEP',\n",
       "   'frequency_mhz': '135.9'},\n",
       "  {'id': '332895',\n",
       "   'airport_ref': '3622',\n",
       "   'airport_ident': 'KJFK',\n",
       "   'type': 'GND',\n",
       "   'description': 'GND ALT',\n",
       "   'frequency_mhz': '121.65'},\n",
       "  {'id': '69297',\n",
       "   'airport_ref': '3622',\n",
       "   'airport_ident': 'KJFK',\n",
       "   'type': 'GND',\n",
       "   'description': 'GND',\n",
       "   'frequency_mhz': '121.9'},\n",
       "  {'id': '69298',\n",
       "   'airport_ref': '3622',\n",
       "   'airport_ident': 'KJFK',\n",
       "   'type': 'RDO',\n",
       "   'description': 'NEW YORK RDO',\n",
       "   'frequency_mhz': '115.9'},\n",
       "  {'id': '69299',\n",
       "   'airport_ref': '3622',\n",
       "   'airport_ident': 'KJFK',\n",
       "   'type': 'TWR',\n",
       "   'description': 'KENNEDY TWR',\n",
       "   'frequency_mhz': '119.1'},\n",
       "  {'id': '332894',\n",
       "   'airport_ref': '3622',\n",
       "   'airport_ident': 'KJFK',\n",
       "   'type': 'TWR',\n",
       "   'description': 'TWR ALT',\n",
       "   'frequency_mhz': '123.9'},\n",
       "  {'id': '69300',\n",
       "   'airport_ref': '3622',\n",
       "   'airport_ident': 'KJFK',\n",
       "   'type': 'UNIC',\n",
       "   'description': 'UNICOM',\n",
       "   'frequency_mhz': '122.95'}],\n",
       " 'country': {'id': '302755',\n",
       "  'code': 'US',\n",
       "  'name': 'United States',\n",
       "  'continent': 'NA',\n",
       "  'wikipedia_link': 'https://en.wikipedia.org/wiki/United_States',\n",
       "  'keywords': 'America'},\n",
       " 'region': {'id': '306110',\n",
       "  'code': 'US-NY',\n",
       "  'local_code': 'NY',\n",
       "  'name': 'New York',\n",
       "  'continent': 'NA',\n",
       "  'iso_country': 'US',\n",
       "  'wikipedia_link': 'https://en.wikipedia.org/wiki/New_York',\n",
       "  'keywords': ''},\n",
       " 'navaids': [{'id': '87031',\n",
       "   'filename': 'Canarsie_VOR-DME_US',\n",
       "   'ident': 'CRI',\n",
       "   'name': 'Canarsie',\n",
       "   'type': 'VOR-DME',\n",
       "   'frequency_khz': '112300',\n",
       "   'latitude_deg': '40.61249923706055',\n",
       "   'longitude_deg': '-73.89440155029297',\n",
       "   'elevation_ft': '10',\n",
       "   'iso_country': 'US',\n",
       "   'dme_frequency_khz': '112300',\n",
       "   'dme_channel': '070X',\n",
       "   'dme_latitude_deg': '',\n",
       "   'dme_longitude_deg': '',\n",
       "   'dme_elevation_ft': '',\n",
       "   'slaved_variation_deg': '-11.001',\n",
       "   'magnetic_variation_deg': '-13.134',\n",
       "   'usageType': 'TERMINAL',\n",
       "   'power': 'LOW',\n",
       "   'associated_airport': 'KJFK'},\n",
       "  {'id': '89475',\n",
       "   'filename': 'Kennedy_VOR-DME_US',\n",
       "   'ident': 'JFK',\n",
       "   'name': 'Kennedy',\n",
       "   'type': 'VOR-DME',\n",
       "   'frequency_khz': '115900',\n",
       "   'latitude_deg': '40.63290023803711',\n",
       "   'longitude_deg': '-73.77140045166016',\n",
       "   'elevation_ft': '11',\n",
       "   'iso_country': 'US',\n",
       "   'dme_frequency_khz': '115900',\n",
       "   'dme_channel': '106X',\n",
       "   'dme_latitude_deg': '',\n",
       "   'dme_longitude_deg': '',\n",
       "   'dme_elevation_ft': '',\n",
       "   'slaved_variation_deg': '-12.001',\n",
       "   'magnetic_variation_deg': '-13.182',\n",
       "   'usageType': 'BOTH',\n",
       "   'power': 'HIGH',\n",
       "   'associated_airport': 'KJFK'}],\n",
       " 'station': {'icao_code': 'KJFK', 'distance': 0}}"
      ]
     },
     "execution_count": 29,
     "metadata": {},
     "output_type": "execute_result"
    }
   ],
   "source": [
    "import requests\n",
    "# airportdb_key = 'SUA_AIRPORTDB_API_KEY'\n",
    "airport_code = 'JFK'\n",
    "url =f\"https://airportdb.io/api/v1/airport/K{airport_code}?apiToken={airportdb_key}\"\n",
    "response = requests.get(url)\n",
    "data = response.json()\n",
    "data"
   ]
  },
  {
   "cell_type": "code",
   "execution_count": 30,
   "metadata": {},
   "outputs": [
    {
     "name": "stdout",
     "output_type": "stream",
     "text": [
      "Airport: LGA latitude: 40.777199 longitude: -73.872597\n",
      "Airport: EWR latitude: 40.692501 longitude: -74.168701\n",
      "Airport: JFK latitude: 40.639801 longitude: -73.7789\n",
      "Airport: PSE latitude: nan longitude: nan\n",
      "Airport: MSY latitude: 29.99340057373047 longitude: -90.25800323486328\n",
      "Airport: SNA latitude: 33.675701 longitude: -117.867996\n",
      "Airport: BUR latitude: 34.197703 longitude: -118.356378\n",
      "Airport: GRR latitude: 42.88079834 longitude: -85.52279663\n",
      "Airport: MYR latitude: 33.6796989441 longitude: -78.9282989502\n",
      "Airport: GSO latitude: 36.097801208496094 longitude: -79.93730163574219\n",
      "Airport: PVD latitude: 41.732601 longitude: -71.420403\n",
      "Airport: OAK latitude: 37.721298 longitude: -122.221001\n",
      "Airport: MSN latitude: 43.1399 longitude: -89.337502\n",
      "Airport: DCA latitude: 38.8521 longitude: -77.037697\n",
      "Airport: LEX latitude: 38.0364990234375 longitude: -84.60590362548828\n",
      "Airport: ORF latitude: 36.89459991455078 longitude: -76.20120239257812\n",
      "Airport: CRW latitude: 38.37310028076172 longitude: -81.59320068359375\n",
      "Airport: SAV latitude: 32.12760162 longitude: -81.20210266\n",
      "Airport: CMH latitude: 39.998001 longitude: -82.891899\n",
      "Airport: CAK latitude: 40.916099548339844 longitude: -81.44219970703125\n",
      "Airport: CHO latitude: 38.13859939575195 longitude: -78.4529037475586\n",
      "Airport: IAH latitude: 29.984399795532227 longitude: -95.34140014648438\n",
      "Airport: HNL latitude: nan longitude: nan\n",
      "Airport: CVG latitude: 39.048801 longitude: -84.667801\n",
      "Airport: SJC latitude: 37.362598 longitude: -121.929001\n",
      "Airport: BUF latitude: 42.94049835 longitude: -78.73220062\n",
      "Airport: AUS latitude: 30.197535 longitude: -97.662015\n",
      "Airport: SJU latitude: nan longitude: nan\n",
      "Airport: AVL latitude: 35.436199 longitude: -82.541801\n",
      "Airport: LGB latitude: 33.817699 longitude: -118.152\n",
      "Airport: SRQ latitude: 27.39539909362793 longitude: -82.55439758300781\n",
      "Airport: EYW latitude: 24.556101 longitude: -81.759598\n",
      "Airport: SBN latitude: 41.708698 longitude: -86.317299\n",
      "Airport: JAC latitude: 43.6072998046875 longitude: -110.73799896240234\n",
      "Airport: CHS latitude: 32.898602 longitude: -80.040497\n",
      "Airport: RSW latitude: 26.53619956970215 longitude: -81.75520324707031\n",
      "Airport: TUL latitude: 36.19839859008789 longitude: -95.88809967041016\n",
      "Airport: BOS latitude: 42.3643 longitude: -71.005203\n",
      "Airport: LAS latitude: 36.08010101 longitude: -115.1520004\n",
      "Airport: XNA latitude: 36.281898 longitude: -94.306801\n",
      "Airport: DEN latitude: 39.861698150635 longitude: -104.672996521\n",
      "Airport: ALB latitude: 42.74829864501953 longitude: -73.80169677734375\n",
      "Airport: IAD latitude: 38.9445 longitude: -77.455803\n",
      "Airport: PSP latitude: 33.8297 longitude: -116.507004\n",
      "Airport: SEA latitude: 47.449001 longitude: -122.308998\n",
      "Airport: MCI latitude: 39.2976 longitude: -94.713898\n",
      "Airport: CLT latitude: 35.2140007019043 longitude: -80.94309997558594\n",
      "Airport: BNA latitude: 36.1245002746582 longitude: -86.6781997680664\n",
      "Airport: TVC latitude: 44.74140167236328 longitude: -85.58219909667969\n",
      "Airport: PBI latitude: 26.68320083618164 longitude: -80.09559631347656\n",
      "Airport: ABQ latitude: 35.040199 longitude: -106.609001\n",
      "Airport: SDF latitude: 38.1744 longitude: -85.736\n",
      "Airport: BDL latitude: 41.9388999939 longitude: -72.68319702149999\n",
      "Airport: CLE latitude: 41.4117012024 longitude: -81.8498001099\n",
      "Airport: PDX latitude: 45.58869934 longitude: -122.5979996\n",
      "Airport: ACK latitude: 41.25310135 longitude: -70.06020355\n",
      "Airport: MIA latitude: 25.79319953918457 longitude: -80.29060363769531\n",
      "Airport: TPA latitude: 27.975500106811523 longitude: -82.533203125\n",
      "Airport: BWI latitude: 39.1754 longitude: -76.668297\n",
      "Airport: OKC latitude: 35.39310073852539 longitude: -97.60070037841797\n",
      "Airport: SMF latitude: 38.69540023803711 longitude: -121.59100341796875\n",
      "Airport: PHX latitude: 33.435302 longitude: -112.005905\n",
      "Airport: STL latitude: 38.748697 longitude: -90.370003\n",
      "Airport: PWM latitude: 43.646198 longitude: -70.309303\n",
      "Airport: DFW latitude: 32.896801 longitude: -97.038002\n",
      "Airport: MHT latitude: 42.932598 longitude: -71.435699\n",
      "Airport: GSP latitude: 34.895699 longitude: -82.218903\n",
      "Airport: HDN latitude: 40.48120117 longitude: -107.2180023\n",
      "Airport: EGE latitude: 39.64260101 longitude: -106.9179993\n",
      "Airport: SFO latitude: 37.61899948120117 longitude: -122.375\n",
      "Airport: MEM latitude: 35.04240036010742 longitude: -89.97669982910156\n",
      "Airport: BHM latitude: 33.56290054 longitude: -86.75350189\n",
      "Airport: ATL latitude: 33.6367 longitude: -84.428101\n",
      "Airport: FLL latitude: 26.072599 longitude: -80.152702\n",
      "Airport: RIC latitude: 37.50519943237305 longitude: -77.3197021484375\n",
      "Airport: DAY latitude: 39.902400970458984 longitude: -84.21939849853516\n",
      "Airport: OMA latitude: 41.3032 longitude: -95.894096\n",
      "Airport: MVY latitude: 41.3931007385 longitude: -70.6143035889\n",
      "Airport: CAE latitude: 33.93880081176758 longitude: -81.11949920654297\n",
      "Airport: ORD latitude: 41.9786 longitude: -87.9048\n",
      "Airport: BTV latitude: 44.471900939899996 longitude: -73.15329742429999\n",
      "Airport: ILM latitude: 34.270599365234375 longitude: -77.90260314941406\n",
      "Airport: BQN latitude: nan longitude: nan\n",
      "Airport: RDU latitude: 35.877601623535156 longitude: -78.7874984741211\n",
      "Airport: MKE latitude: 42.947200775146484 longitude: -87.89659881591797\n",
      "Airport: SYR latitude: 43.11119842529297 longitude: -76.1063003540039\n",
      "Airport: PIT latitude: 40.49150085 longitude: -80.23290253\n",
      "Airport: MTJ latitude: 38.509799957300004 longitude: -107.893997192\n",
      "Airport: MDW latitude: 41.785999 longitude: -87.752403\n",
      "Airport: IND latitude: 39.7173 longitude: -86.294403\n",
      "Airport: DTW latitude: 42.212398529052734 longitude: -83.35340118408203\n",
      "Airport: HOU latitude: 29.64539909 longitude: -95.27890015\n",
      "Airport: TYS latitude: 35.81100082 longitude: -83.9940033\n",
      "Airport: JAX latitude: 30.49410057067871 longitude: -81.68789672851562\n",
      "Airport: LAX latitude: 33.942501 longitude: -118.407997\n",
      "Airport: MSP latitude: 44.882 longitude: -93.221802\n",
      "Airport: BGR latitude: 44.80739974975586 longitude: -68.8281021118164\n",
      "Airport: MCO latitude: 28.429399490356445 longitude: -81.30899810791016\n",
      "Airport: ROC latitude: 43.1189 longitude: -77.672401\n",
      "Airport: SAN latitude: 32.7336006165 longitude: -117.190002441\n",
      "Airport: BZN latitude: 45.77750015 longitude: -111.1529999\n",
      "Airport: ANC latitude: nan longitude: nan\n",
      "Airport: PHL latitude: 39.87189865112305 longitude: -75.24109649658203\n",
      "Airport: DSM latitude: 41.534 longitude: -93.663101\n",
      "Airport: SLC latitude: 40.785749 longitude: -111.979746\n",
      "Airport: SAT latitude: 29.533701 longitude: -98.469803\n",
      "Airport: STT latitude: nan longitude: nan\n"
     ]
    }
   ],
   "source": [
    "import numpy as np\n",
    "\n",
    "for airport_code in airports:\n",
    "    \n",
    "    try:\n",
    "        url = f\"https://airportdb.io/api/v1/airport/K{airport_code}?apiToken={airportdb_key}\"\n",
    "        response = requests.get(url)\n",
    "        data = response.json()\n",
    "        \n",
    "        latitude = data['latitude_deg']\n",
    "        longitude = data['longitude_deg']\n",
    "    except Exception:\n",
    "        latitude = np.nan\n",
    "        longitude = np.nan\n",
    "    print(\"Airport: \" + airport_code + \" latitude: \" + str(latitude) + \" longitude: \" + str(longitude))\n",
    "    # Atualiza o DataFrame\n",
    "    airport_df = airport_df.withColumn(\n",
    "        'latitude_deg',\n",
    "        when(col('airport') == airport_code, latitude).otherwise(col('latitude_deg'))\n",
    "    ).withColumn(\n",
    "        'longitude_deg',\n",
    "        when(col('airport') == airport_code, longitude).otherwise(col('longitude_deg'))\n",
    "    )"
   ]
  },
  {
   "cell_type": "code",
   "execution_count": 31,
   "metadata": {},
   "outputs": [
    {
     "name": "stdout",
     "output_type": "stream",
     "text": [
      "+-------+------------------+------------------+\n",
      "|airport|      latitude_deg|     longitude_deg|\n",
      "+-------+------------------+------------------+\n",
      "|    LGA|         40.777199|        -73.872597|\n",
      "|    EWR|         40.692501|        -74.168701|\n",
      "|    JFK|         40.639801|          -73.7789|\n",
      "|    PSE|               NaN|               NaN|\n",
      "|    MSY| 29.99340057373047|-90.25800323486328|\n",
      "|    SNA|         33.675701|       -117.867996|\n",
      "|    BUR|         34.197703|       -118.356378|\n",
      "|    GRR|       42.88079834|      -85.52279663|\n",
      "|    MYR|     33.6796989441|    -78.9282989502|\n",
      "|    GSO|36.097801208496094|-79.93730163574219|\n",
      "|    PVD|         41.732601|        -71.420403|\n",
      "|    OAK|         37.721298|       -122.221001|\n",
      "|    MSN|           43.1399|        -89.337502|\n",
      "|    DCA|           38.8521|        -77.037697|\n",
      "|    LEX|  38.0364990234375|-84.60590362548828|\n",
      "|    ORF| 36.89459991455078|-76.20120239257812|\n",
      "|    CRW| 38.37310028076172|-81.59320068359375|\n",
      "|    SAV|       32.12760162|      -81.20210266|\n",
      "|    CMH|         39.998001|        -82.891899|\n",
      "|    CAK|40.916099548339844|-81.44219970703125|\n",
      "+-------+------------------+------------------+\n",
      "only showing top 20 rows\n",
      "\n"
     ]
    }
   ],
   "source": [
    "airport_df.show()"
   ]
  },
  {
   "cell_type": "code",
   "execution_count": 32,
   "metadata": {},
   "outputs": [
    {
     "name": "stdout",
     "output_type": "stream",
     "text": [
      "+-------+------------+-------------+\n",
      "|airport|latitude_deg|longitude_deg|\n",
      "+-------+------------+-------------+\n",
      "|    PSE|         NaN|          NaN|\n",
      "|    HNL|         NaN|          NaN|\n",
      "|    SJU|         NaN|          NaN|\n",
      "|    BQN|         NaN|          NaN|\n",
      "|    ANC|         NaN|          NaN|\n",
      "|    STT|         NaN|          NaN|\n",
      "+-------+------------+-------------+\n",
      "\n"
     ]
    }
   ],
   "source": [
    "from pyspark.sql.functions import isnan\n",
    "\n",
    "airport_df.filter(isnan(col('latitude_deg')) | isnan(col('longitude_deg'))).show()"
   ]
  },
  {
   "cell_type": "code",
   "execution_count": 33,
   "metadata": {},
   "outputs": [
    {
     "name": "stderr",
     "output_type": "stream",
     "text": [
      "24/09/22 19:36:16 WARN SparkStringUtils: Truncated the string representation of a plan since it was too large. This behavior can be adjusted by setting 'spark.sql.debug.maxToStringFields'.\n"
     ]
    },
    {
     "name": "stdout",
     "output_type": "stream",
     "text": [
      "+------+----+-----+---+--------+--------------+---------+--------+--------------+---------+-------+------+-------+------+----+--------+--------+----+------+-------------------+--------------------+---------+--------+------+----------+---------------+---------------+---------------+-------+---------------+----------------+-------+------------------+------------------+\n",
      "|    id|year|month|day|dep_time|sched_dep_time|dep_delay|arr_time|sched_arr_time|arr_delay|carrier|flight|tailnum|origin|dest|air_time|distance|hour|minute|          time_hour|                name|cancelled|diverted|landed|     route|30_min_late_dep|60_min_late_dep|30_min_late_arr|airport|latitude_origin|longitude_origin|airport|     latitude_dest|    longitude_dest|\n",
      "+------+----+-----+---+--------+--------------+---------+--------+--------------+---------+-------+------+-------+------+----+--------+--------+----+------+-------------------+--------------------+---------+--------+------+----------+---------------+---------------+---------------+-------+---------------+----------------+-------+------------------+------------------+\n",
      "|     0|2013|    1|  1|   517.0|           515|      2.0|   830.0|           819|     11.0|     UA|  1545| N14228|   EWR| IAH|   227.0|    1400|   5|    15|2013-01-01 05:00:00|United Air Lines ...|        0|       0|     1|{EWR, IAH}|              0|              0|              0|    EWR|      40.692501|      -74.168701|    IAH|29.984399795532227|-95.34140014648438|\n",
      "|     5|2013|    1|  1|   554.0|           558|     -4.0|   740.0|           728|     12.0|     UA|  1696| N39463|   EWR| ORD|   150.0|     719|   5|    58|2013-01-01 05:00:00|United Air Lines ...|        0|       0|     1|{EWR, ORD}|              0|              0|              0|    EWR|      40.692501|      -74.168701|    ORD|           41.9786|          -87.9048|\n",
      "|     6|2013|    1|  1|   555.0|           600|     -5.0|   913.0|           854|     19.0|     B6|   507| N516JB|   EWR| FLL|   158.0|    1065|   6|     0|2013-01-01 06:00:00|     JetBlue Airways|        0|       0|     1|{EWR, FLL}|              0|              0|              0|    EWR|      40.692501|      -74.168701|    FLL|         26.072599|        -80.152702|\n",
      "|    13|2013|    1|  1|   558.0|           600|     -2.0|   923.0|           937|    -14.0|     UA|  1124| N53441|   EWR| SFO|   361.0|    2565|   6|     0|2013-01-01 06:00:00|United Air Lines ...|        0|       0|     1|{EWR, SFO}|              0|              0|              0|    EWR|      40.692501|      -74.168701|    SFO| 37.61899948120117|          -122.375|\n",
      "|    16|2013|    1|  1|   559.0|           600|     -1.0|   854.0|           902|     -8.0|     UA|  1187| N76515|   EWR| LAS|   337.0|    2227|   6|     0|2013-01-01 06:00:00|United Air Lines ...|        0|       0|     1|{EWR, LAS}|              0|              0|              0|    EWR|      40.692501|      -74.168701|    LAS|       36.08010101|      -115.1520004|\n",
      "|    19|2013|    1|  1|   601.0|           600|      1.0|   844.0|           850|     -6.0|     B6|   343| N644JB|   EWR| PBI|   147.0|    1023|   6|     0|2013-01-01 06:00:00|     JetBlue Airways|        0|       0|     1|{EWR, PBI}|              0|              0|              0|    EWR|      40.692501|      -74.168701|    PBI| 26.68320083618164|-80.09559631347656|\n",
      "| 46431|2013|   10| 21|  1955.0|          2007|    -12.0|  2155.0|          2202|     -7.0|     EV|  4543| N12122|   EWR| DSM|   159.0|    1017|  20|     7|2013-10-21 20:00:00|ExpressJet Airlin...|        0|       0|     1|{EWR, DSM}|              0|              0|              0|    EWR|      40.692501|      -74.168701|    DSM|            41.534|        -93.663101|\n",
      "| 46434|2013|   10| 21|  1958.0|          2005|     -7.0|  2130.0|          2130|      0.0|     MQ|  3604| N519MQ|   EWR| ORD|   114.0|     719|  20|     5|2013-10-21 20:00:00|           Envoy Air|        0|       0|     1|{EWR, ORD}|              0|              0|              0|    EWR|      40.692501|      -74.168701|    ORD|           41.9786|          -87.9048|\n",
      "| 46435|2013|   10| 21|  1958.0|          1835|     83.0|  2234.0|          2148|     46.0|     AS|     5| N303AS|   EWR| SEA|   318.0|    2402|  18|    35|2013-10-21 18:00:00|Alaska Airlines Inc.|        0|       0|     1|{EWR, SEA}|              1|              1|              1|    EWR|      40.692501|      -74.168701|    SEA|         47.449001|       -122.308998|\n",
      "| 46436|2013|   10| 21|  2000.0|          2000|      0.0|  2316.0|          2328|    -12.0|     UA|  1651| N76517|   EWR| SFO|   339.0|    2565|  20|     0|2013-10-21 20:00:00|United Air Lines ...|        0|       0|     1|{EWR, SFO}|              0|              0|              0|    EWR|      40.692501|      -74.168701|    SFO| 37.61899948120117|          -122.375|\n",
      "| 46438|2013|   10| 21|  2001.0|          2006|     -5.0|  2229.0|          2213|     16.0|     EV|  4321| N12136|   EWR| MCI|   176.0|    1092|  20|     6|2013-10-21 20:00:00|ExpressJet Airlin...|        0|       0|     1|{EWR, MCI}|              0|              0|              0|    EWR|      40.692501|      -74.168701|    MCI|           39.2976|        -94.713898|\n",
      "| 46439|2013|   10| 21|  2001.0|          2003|     -2.0|  2247.0|          2237|     10.0|     EV|  4204| N11137|   EWR| OKC|   198.0|    1325|  20|     3|2013-10-21 20:00:00|ExpressJet Airlin...|        0|       0|     1|{EWR, OKC}|              0|              0|              0|    EWR|      40.692501|      -74.168701|    OKC| 35.39310073852539|-97.60070037841797|\n",
      "| 46440|2013|   10| 21|  2002.0|          2004|     -2.0|  2249.0|          2314|    -25.0|     UA|  1224| N37422|   EWR| LAX|   317.0|    2454|  20|     4|2013-10-21 20:00:00|United Air Lines ...|        0|       0|     1|{EWR, LAX}|              0|              0|              0|    EWR|      40.692501|      -74.168701|    LAX|         33.942501|       -118.407997|\n",
      "| 46441|2013|   10| 21|  2002.0|          1901|     61.0|  2254.0|          2215|     39.0|     UA|  1526| N13248|   EWR| LAX|   320.0|    2454|  19|     1|2013-10-21 19:00:00|United Air Lines ...|        0|       0|     1|{EWR, LAX}|              1|              1|              1|    EWR|      40.692501|      -74.168701|    LAX|         33.942501|       -118.407997|\n",
      "| 46443|2013|   10| 21|  2008.0|          2009|     -1.0|  2130.0|          2129|      1.0|     UA|  1049| N87527|   EWR| BOS|    42.0|     200|  20|     9|2013-10-21 20:00:00|United Air Lines ...|        0|       0|     1|{EWR, BOS}|              0|              0|              0|    EWR|      40.692501|      -74.168701|    BOS|           42.3643|        -71.005203|\n",
      "| 92564|2013|   12| 11|   655.0|           659|     -4.0|   903.0|           854|      9.0|     EV|  4099| N21537|   EWR| STL|   169.0|     872|   6|    59|2013-12-11 06:00:00|ExpressJet Airlin...|        0|       0|     1|{EWR, STL}|              0|              0|              0|    EWR|      40.692501|      -74.168701|    STL|         38.748697|        -90.370003|\n",
      "| 92565|2013|   12| 11|   656.0|           703|     -7.0|   951.0|           914|     37.0|     EV|  4155| N11194|   EWR| GRR|   151.0|     605|   7|     3|2013-12-11 07:00:00|ExpressJet Airlin...|        0|       0|     1|{EWR, GRR}|              0|              0|              1|    EWR|      40.692501|      -74.168701|    GRR|       42.88079834|      -85.52279663|\n",
      "| 92575|2013|   12| 11|   702.0|           635|     27.0|   833.0|           803|     30.0|     EV|  4422| N12195|   EWR| PIT|    70.0|     319|   6|    35|2013-12-11 06:00:00|ExpressJet Airlin...|        0|       0|     1|{EWR, PIT}|              0|              0|              0|    EWR|      40.692501|      -74.168701|    PIT|       40.49150085|      -80.23290253|\n",
      "|138798|2013|    3|  3|  2023.0|          2030|     -7.0|  2245.0|          2251|     -6.0|     UA|   262| N547UA|   EWR| DEN|   226.0|    1605|  20|    30|2013-03-03 20:00:00|United Air Lines ...|        0|       0|     1|{EWR, DEN}|              0|              0|              0|    EWR|      40.692501|      -74.168701|    DEN|   39.861698150635|    -104.672996521|\n",
      "|138799|2013|    3|  3|  2024.0|          2015|      9.0|  2304.0|          2308|     -4.0|     UA|   696| N844UA|   EWR| MCO|   124.0|     937|  20|    15|2013-03-03 20:00:00|United Air Lines ...|        0|       0|     1|{EWR, MCO}|              0|              0|              0|    EWR|      40.692501|      -74.168701|    MCO|28.429399490356445|-81.30899810791016|\n",
      "+------+----+-----+---+--------+--------------+---------+--------+--------------+---------+-------+------+-------+------+----+--------+--------+----+------+-------------------+--------------------+---------+--------+------+----------+---------------+---------------+---------------+-------+---------------+----------------+-------+------------------+------------------+\n",
      "only showing top 20 rows\n",
      "\n"
     ]
    }
   ],
   "source": [
    "# Renomeia colunas para o join\n",
    "airport_df_origin = airport_df.withColumnRenamed('latitude_deg', 'latitude_origin') \\\n",
    "                               .withColumnRenamed('longitude_deg', 'longitude_origin')\n",
    "\n",
    "# Realiza o join para a coluna 'origin'\n",
    "airport_data_with_origin = airport_data.join(\n",
    "    airport_df_origin.alias('origin_df'),\n",
    "    airport_data['origin'] == col('origin_df.airport'),\n",
    "    how='left'\n",
    ")\n",
    "\n",
    "# Renomeia colunas para o join\n",
    "airport_df_dest = airport_df.withColumnRenamed('latitude_deg', 'latitude_dest') \\\n",
    "                             .withColumnRenamed('longitude_deg', 'longitude_dest')\n",
    "\n",
    "# Realiza o join para a coluna 'dest'\n",
    "airport_data_final = airport_data_with_origin.join(\n",
    "    airport_df_dest.alias('dest_df'),\n",
    "    airport_data_with_origin['dest'] == col('dest_df.airport'),\n",
    "    how='left'\n",
    ")\n",
    "\n",
    "# Dataframe final\n",
    "airport_data_final.show()"
   ]
  },
  {
   "cell_type": "code",
   "execution_count": 34,
   "metadata": {},
   "outputs": [],
   "source": [
    "weather_api_key = 'c329a573b7b04f50a291a91716db1a92'"
   ]
  },
  {
   "cell_type": "code",
   "execution_count": 35,
   "metadata": {},
   "outputs": [
    {
     "data": {
      "text/plain": [
       "{'error': 'Your API key does not allow access to this endpoint. See https://www.weatherbit.io/pricing.'}"
      ]
     },
     "execution_count": 35,
     "metadata": {},
     "output_type": "execute_result"
    }
   ],
   "source": [
    "import requests\n",
    "\n",
    "latitude = 40.7128\n",
    "longitude = -74.0060\n",
    "start_date = '2023-01-01'\n",
    "end_date = '2023-01-02' # Sempre adicione +1 dia em relação ao start_date\n",
    "url = 'https://api.weatherbit.io/v2.0/history/daily'\n",
    "params = {\n",
    "'lat': latitude,\n",
    "'lon': longitude,\n",
    "'start_date': start_date,\n",
    "'end_date': end_date,\n",
    "'key': weather_api_key,\n",
    "}\n",
    "headers = {\n",
    "'Accept': 'application/json',\n",
    "}\n",
    "response = requests.get(url, params=params, headers=headers)\n",
    "data = response.json()\n",
    "data"
   ]
  },
  {
   "cell_type": "markdown",
   "metadata": {},
   "source": [
    "### Weatherbit api não tem dados históricos de graça.\n",
    "\n",
    "Solução: usar outra opensource https://open-meteo.com/"
   ]
  },
  {
   "attachments": {
    "image.png": {
     "image/png": "[encoded data removed]"
    }
   },
   "cell_type": "markdown",
   "metadata": {},
   "source": [
    "![image.png](attachment:image.png)"
   ]
  },
  {
   "cell_type": "code",
   "execution_count": 36,
   "metadata": {},
   "outputs": [
    {
     "name": "stdout",
     "output_type": "stream",
     "text": [
      "Primeiro dia: 2013-01-01 05:00:00\n",
      "Último dia: 2013-12-31 23:00:00\n"
     ]
    }
   ],
   "source": [
    "primeiro_dia = airport_data.agg(min(\"time_hour\").alias(\"primeiro_dia\")).collect()[0][\"primeiro_dia\"]\n",
    "ultimo_dia = airport_data.agg(max(\"time_hour\").alias(\"ultimo_dia\")).collect()[0][\"ultimo_dia\"]\n",
    "\n",
    "print(\"Primeiro dia:\", primeiro_dia)\n",
    "print(\"Último dia:\", ultimo_dia)"
   ]
  },
  {
   "attachments": {
    "image.png": {
     "image/png": "[encoded data removed]"
    }
   },
   "cell_type": "markdown",
   "metadata": {},
   "source": [
    "![image.png](attachment:image.png)"
   ]
  },
  {
   "cell_type": "code",
   "execution_count": 37,
   "metadata": {},
   "outputs": [
    {
     "name": "stdout",
     "output_type": "stream",
     "text": [
      "{'latitude': 52.54833, 'longitude': 13.407822, 'generationtime_ms': 0.0629425048828125, 'utc_offset_seconds': 0, 'timezone': 'GMT', 'timezone_abbreviation': 'GMT', 'elevation': 38.0, 'daily_units': {'time': 'iso8601', 'wind_gusts_10m_max': 'm/s'}, 'daily': {'time': ['2013-01-01', '2013-01-02'], 'wind_gusts_10m_max': [10.8, 11.3]}}\n"
     ]
    }
   ],
   "source": [
    "latitude = 40.7128\n",
    "longitude = -74.0060\n",
    "\n",
    "start_date = '2013-01-01'\n",
    "end_date = '2013-01-02' # Sempre adicione +1 dia em relação ao start_date\n",
    "\n",
    "url = f\"https://archive-api.open-meteo.com/v1/archive?latitude=52.52&longitude=13.41&start_date={start_date}&end_date={end_date}&daily=wind_gusts_10m_max&wind_speed_unit=ms\"\n",
    "\n",
    "response = requests.get(url)\n",
    "\n",
    "data = response.json()\n",
    "print(data)"
   ]
  },
  {
   "cell_type": "code",
   "execution_count": 38,
   "metadata": {},
   "outputs": [
    {
     "data": {
      "text/plain": [
       "{'time': ['2013-01-01', '2013-01-02'], 'wind_gusts_10m_max': [10.8, 11.3]}"
      ]
     },
     "execution_count": 38,
     "metadata": {},
     "output_type": "execute_result"
    }
   ],
   "source": [
    "data['daily']"
   ]
  },
  {
   "cell_type": "code",
   "execution_count": 39,
   "metadata": {
    "scrolled": true
   },
   "outputs": [
    {
     "name": "stdout",
     "output_type": "stream",
     "text": [
      "Colunas disponíveis: ['id', 'year', 'month', 'day', 'dep_time', 'sched_dep_time', 'dep_delay', 'arr_time', 'sched_arr_time', 'arr_delay', 'carrier', 'flight', 'tailnum', 'origin', 'dest', 'air_time', 'distance', 'hour', 'minute', 'time_hour', 'name', 'cancelled', 'diverted', 'landed', 'route', '30_min_late_dep', '60_min_late_dep', '30_min_late_arr', 'airport', 'latitude_origin', 'longitude_origin', 'airport', 'latitude_dest', 'longitude_dest']\n"
     ]
    }
   ],
   "source": [
    "print(\"Colunas disponíveis:\", airport_data_final.columns)"
   ]
  },
  {
   "cell_type": "code",
   "execution_count": 40,
   "metadata": {},
   "outputs": [
    {
     "name": "stdout",
     "output_type": "stream",
     "text": [
      "Erro ao obter dados para PSE: 400 - {\"reason\":\"Latitude must be in range of -90 to 90°. Given: nan.\",\"error\":true}\n",
      "Erro ao obter dados para HNL: 400 - {\"error\":true,\"reason\":\"Latitude must be in range of -90 to 90°. Given: nan.\"}\n",
      "Erro ao obter dados para SJU: 400 - {\"error\":true,\"reason\":\"Latitude must be in range of -90 to 90°. Given: nan.\"}\n",
      "Erro ao obter dados para BQN: 400 - {\"error\":true,\"reason\":\"Latitude must be in range of -90 to 90°. Given: nan.\"}\n",
      "Erro ao obter dados para ANC: 400 - {\"error\":true,\"reason\":\"Latitude must be in range of -90 to 90°. Given: nan.\"}\n",
      "Erro ao obter dados para STT: 400 - {\"reason\":\"Latitude must be in range of -90 to 90°. Given: nan.\",\"error\":true}\n"
     ]
    }
   ],
   "source": [
    "import pandas as pd\n",
    "\n",
    "wind_dataframes = {}\n",
    "\n",
    "# Datas para a requisição\n",
    "start_date = '2013-01-01'\n",
    "end_date = '2013-12-31'\n",
    "\n",
    "# Coletar os dados do DataFrame do PySpark\n",
    "airport_data = airport_df.collect()\n",
    "\n",
    "# Loop por cada aeroporto\n",
    "for row in airport_data:\n",
    "    airport_code = row['airport']\n",
    "    latitude = row['latitude_deg']\n",
    "    longitude = row['longitude_deg']\n",
    "    \n",
    "    # Verificar se a latitude e longitude não são None\n",
    "    if latitude is not None and longitude is not None:\n",
    "        # Montar a URL da API\n",
    "        url = f\"https://archive-api.open-meteo.com/v1/archive?latitude={latitude}&longitude={longitude}&start_date={start_date}&end_date={end_date}&daily=wind_gusts_10m_max&wind_speed_unit=ms\"\n",
    "        \n",
    "        # Fazer a requisição à API\n",
    "        response = requests.get(url)\n",
    "        \n",
    "        # Verificar se a requisição foi bem-sucedida\n",
    "        if response.status_code == 200:\n",
    "            data = response.json()\n",
    "            # Criar um DataFrame a partir dos dados retornados\n",
    "            df = pd.DataFrame(data['daily'])\n",
    "            # Armazenar no dicionário como um DataFrame do Spark\n",
    "            wind_dataframes[airport_code] = spark.createDataFrame(df)\n",
    "        else:\n",
    "            print(f\"Erro ao obter dados para {airport_code}: {response.status_code} - {response.text}\")\n",
    "    else:\n",
    "        print(f\"Coordenadas inválidas para {airport_code}, pulando.\")"
   ]
  },
  {
   "cell_type": "code",
   "execution_count": 41,
   "metadata": {},
   "outputs": [
    {
     "name": "stdout",
     "output_type": "stream",
     "text": [
      "+---+----+-----+---+--------+--------------+---------+--------+--------------+---------+-------+------+-------+------+----+--------+--------+----+------+-------------------+--------------------+---------+--------+------+----------+---------------+---------------+---------------+-------+---------------+----------------+-------+------------------+------------------+-----------+\n",
      "| id|year|month|day|dep_time|sched_dep_time|dep_delay|arr_time|sched_arr_time|arr_delay|carrier|flight|tailnum|origin|dest|air_time|distance|hour|minute|          time_hour|                name|cancelled|diverted|landed|     route|30_min_late_dep|60_min_late_dep|30_min_late_arr|airport|latitude_origin|longitude_origin|airport|     latitude_dest|    longitude_dest|wind_origin|\n",
      "+---+----+-----+---+--------+--------------+---------+--------+--------------+---------+-------+------+-------+------+----+--------+--------+----+------+-------------------+--------------------+---------+--------+------+----------+---------------+---------------+---------------+-------+---------------+----------------+-------+------------------+------------------+-----------+\n",
      "|  0|2013|    1|  1|   517.0|           515|      2.0|   830.0|           819|     11.0|     UA|  1545| N14228|   EWR| IAH|   227.0|    1400|   5|    15|2013-01-01 05:00:00|United Air Lines ...|        0|       0|     1|{EWR, IAH}|              0|              0|              0|    EWR|      40.692501|      -74.168701|    IAH|29.984399795532227|-95.34140014648438|       12.5|\n",
      "|  0|2013|    1|  1|   517.0|           515|      2.0|   830.0|           819|     11.0|     UA|  1545| N14228|   EWR| IAH|   227.0|    1400|   5|    15|2013-01-01 05:00:00|United Air Lines ...|        0|       0|     1|{EWR, IAH}|              0|              0|              0|    EWR|      40.692501|      -74.168701|    IAH|29.984399795532227|-95.34140014648438|       11.5|\n",
      "|  0|2013|    1|  1|   517.0|           515|      2.0|   830.0|           819|     11.0|     UA|  1545| N14228|   EWR| IAH|   227.0|    1400|   5|    15|2013-01-01 05:00:00|United Air Lines ...|        0|       0|     1|{EWR, IAH}|              0|              0|              0|    EWR|      40.692501|      -74.168701|    IAH|29.984399795532227|-95.34140014648438|       16.2|\n",
      "|  0|2013|    1|  1|   517.0|           515|      2.0|   830.0|           819|     11.0|     UA|  1545| N14228|   EWR| IAH|   227.0|    1400|   5|    15|2013-01-01 05:00:00|United Air Lines ...|        0|       0|     1|{EWR, IAH}|              0|              0|              0|    EWR|      40.692501|      -74.168701|    IAH|29.984399795532227|-95.34140014648438|        9.9|\n",
      "|  0|2013|    1|  1|   517.0|           515|      2.0|   830.0|           819|     11.0|     UA|  1545| N14228|   EWR| IAH|   227.0|    1400|   5|    15|2013-01-01 05:00:00|United Air Lines ...|        0|       0|     1|{EWR, IAH}|              0|              0|              0|    EWR|      40.692501|      -74.168701|    IAH|29.984399795532227|-95.34140014648438|        9.1|\n",
      "|  0|2013|    1|  1|   517.0|           515|      2.0|   830.0|           819|     11.0|     UA|  1545| N14228|   EWR| IAH|   227.0|    1400|   5|    15|2013-01-01 05:00:00|United Air Lines ...|        0|       0|     1|{EWR, IAH}|              0|              0|              0|    EWR|      40.692501|      -74.168701|    IAH|29.984399795532227|-95.34140014648438|        8.6|\n",
      "|  0|2013|    1|  1|   517.0|           515|      2.0|   830.0|           819|     11.0|     UA|  1545| N14228|   EWR| IAH|   227.0|    1400|   5|    15|2013-01-01 05:00:00|United Air Lines ...|        0|       0|     1|{EWR, IAH}|              0|              0|              0|    EWR|      40.692501|      -74.168701|    IAH|29.984399795532227|-95.34140014648438|       11.2|\n",
      "|  0|2013|    1|  1|   517.0|           515|      2.0|   830.0|           819|     11.0|     UA|  1545| N14228|   EWR| IAH|   227.0|    1400|   5|    15|2013-01-01 05:00:00|United Air Lines ...|        0|       0|     1|{EWR, IAH}|              0|              0|              0|    EWR|      40.692501|      -74.168701|    IAH|29.984399795532227|-95.34140014648438|       10.7|\n",
      "|  0|2013|    1|  1|   517.0|           515|      2.0|   830.0|           819|     11.0|     UA|  1545| N14228|   EWR| IAH|   227.0|    1400|   5|    15|2013-01-01 05:00:00|United Air Lines ...|        0|       0|     1|{EWR, IAH}|              0|              0|              0|    EWR|      40.692501|      -74.168701|    IAH|29.984399795532227|-95.34140014648438|       11.4|\n",
      "|  0|2013|    1|  1|   517.0|           515|      2.0|   830.0|           819|     11.0|     UA|  1545| N14228|   EWR| IAH|   227.0|    1400|   5|    15|2013-01-01 05:00:00|United Air Lines ...|        0|       0|     1|{EWR, IAH}|              0|              0|              0|    EWR|      40.692501|      -74.168701|    IAH|29.984399795532227|-95.34140014648438|       15.1|\n",
      "|  0|2013|    1|  1|   517.0|           515|      2.0|   830.0|           819|     11.0|     UA|  1545| N14228|   EWR| IAH|   227.0|    1400|   5|    15|2013-01-01 05:00:00|United Air Lines ...|        0|       0|     1|{EWR, IAH}|              0|              0|              0|    EWR|      40.692501|      -74.168701|    IAH|29.984399795532227|-95.34140014648438|        9.3|\n",
      "|  0|2013|    1|  1|   517.0|           515|      2.0|   830.0|           819|     11.0|     UA|  1545| N14228|   EWR| IAH|   227.0|    1400|   5|    15|2013-01-01 05:00:00|United Air Lines ...|        0|       0|     1|{EWR, IAH}|              0|              0|              0|    EWR|      40.692501|      -74.168701|    IAH|29.984399795532227|-95.34140014648438|        6.9|\n",
      "|  0|2013|    1|  1|   517.0|           515|      2.0|   830.0|           819|     11.0|     UA|  1545| N14228|   EWR| IAH|   227.0|    1400|   5|    15|2013-01-01 05:00:00|United Air Lines ...|        0|       0|     1|{EWR, IAH}|              0|              0|              0|    EWR|      40.692501|      -74.168701|    IAH|29.984399795532227|-95.34140014648438|        7.4|\n",
      "|  0|2013|    1|  1|   517.0|           515|      2.0|   830.0|           819|     11.0|     UA|  1545| N14228|   EWR| IAH|   227.0|    1400|   5|    15|2013-01-01 05:00:00|United Air Lines ...|        0|       0|     1|{EWR, IAH}|              0|              0|              0|    EWR|      40.692501|      -74.168701|    IAH|29.984399795532227|-95.34140014648438|       10.9|\n",
      "|  0|2013|    1|  1|   517.0|           515|      2.0|   830.0|           819|     11.0|     UA|  1545| N14228|   EWR| IAH|   227.0|    1400|   5|    15|2013-01-01 05:00:00|United Air Lines ...|        0|       0|     1|{EWR, IAH}|              0|              0|              0|    EWR|      40.692501|      -74.168701|    IAH|29.984399795532227|-95.34140014648438|        6.7|\n",
      "|  0|2013|    1|  1|   517.0|           515|      2.0|   830.0|           819|     11.0|     UA|  1545| N14228|   EWR| IAH|   227.0|    1400|   5|    15|2013-01-01 05:00:00|United Air Lines ...|        0|       0|     1|{EWR, IAH}|              0|              0|              0|    EWR|      40.692501|      -74.168701|    IAH|29.984399795532227|-95.34140014648438|       11.5|\n",
      "|  0|2013|    1|  1|   517.0|           515|      2.0|   830.0|           819|     11.0|     UA|  1545| N14228|   EWR| IAH|   227.0|    1400|   5|    15|2013-01-01 05:00:00|United Air Lines ...|        0|       0|     1|{EWR, IAH}|              0|              0|              0|    EWR|      40.692501|      -74.168701|    IAH|29.984399795532227|-95.34140014648438|       15.3|\n",
      "|  0|2013|    1|  1|   517.0|           515|      2.0|   830.0|           819|     11.0|     UA|  1545| N14228|   EWR| IAH|   227.0|    1400|   5|    15|2013-01-01 05:00:00|United Air Lines ...|        0|       0|     1|{EWR, IAH}|              0|              0|              0|    EWR|      40.692501|      -74.168701|    IAH|29.984399795532227|-95.34140014648438|       10.8|\n",
      "|  0|2013|    1|  1|   517.0|           515|      2.0|   830.0|           819|     11.0|     UA|  1545| N14228|   EWR| IAH|   227.0|    1400|   5|    15|2013-01-01 05:00:00|United Air Lines ...|        0|       0|     1|{EWR, IAH}|              0|              0|              0|    EWR|      40.692501|      -74.168701|    IAH|29.984399795532227|-95.34140014648438|       11.6|\n",
      "|  0|2013|    1|  1|   517.0|           515|      2.0|   830.0|           819|     11.0|     UA|  1545| N14228|   EWR| IAH|   227.0|    1400|   5|    15|2013-01-01 05:00:00|United Air Lines ...|        0|       0|     1|{EWR, IAH}|              0|              0|              0|    EWR|      40.692501|      -74.168701|    IAH|29.984399795532227|-95.34140014648438|       10.2|\n",
      "+---+----+-----+---+--------+--------------+---------+--------+--------------+---------+-------+------+-------+------+----+--------+--------+----+------+-------------------+--------------------+---------+--------+------+----------+---------------+---------------+---------------+-------+---------------+----------------+-------+------------------+------------------+-----------+\n",
      "only showing top 20 rows\n",
      "\n"
     ]
    }
   ],
   "source": [
    "wind_data_list = []\n",
    "\n",
    "# Extrair os dados de vento de cada dataframe no dicionário de dataframes\n",
    "for airport_code, df in wind_dataframes.items():\n",
    "    # Coletar os dados de vento como uma lista de tuplas\n",
    "    wind_data = df.select(\"wind_gusts_10m_max\").rdd.map(lambda row: (airport_code, row[0])).collect()\n",
    "    wind_data_list.extend(wind_data)\n",
    "\n",
    "# Criar um dataframe a partir da lista de dados de vento\n",
    "wind_data_df = spark.createDataFrame(wind_data_list, [\"airport_code\", \"wind_origin\"])\n",
    "\n",
    "# Preencher airport_data_final\n",
    "airport_data_final = airport_data_final \\\n",
    "    .join(wind_data_df, airport_data_final.origin == wind_data_df.airport_code, \"left\") \\\n",
    "    .select(airport_data_final[\"*\"], wind_data_df[\"wind_origin\"])\n",
    "\n",
    "# Exibir o dataframe atualizado\n",
    "airport_data_final.show()"
   ]
  },
  {
   "cell_type": "code",
   "execution_count": 42,
   "metadata": {
    "scrolled": true
   },
   "outputs": [
    {
     "name": "stdout",
     "output_type": "stream",
     "text": [
      "+---+----+-----+---+--------+--------------+---------+--------+--------------+---------+-------+------+-------+------+----+--------+--------+----+------+-------------------+--------------------+---------+--------+------+----------+---------------+---------------+---------------+-------+---------------+----------------+-------+------------------+------------------+-----------+---------+\n",
      "| id|year|month|day|dep_time|sched_dep_time|dep_delay|arr_time|sched_arr_time|arr_delay|carrier|flight|tailnum|origin|dest|air_time|distance|hour|minute|          time_hour|                name|cancelled|diverted|landed|     route|30_min_late_dep|60_min_late_dep|30_min_late_arr|airport|latitude_origin|longitude_origin|airport|     latitude_dest|    longitude_dest|wind_origin|wind_dest|\n",
      "+---+----+-----+---+--------+--------------+---------+--------+--------------+---------+-------+------+-------+------+----+--------+--------+----+------+-------------------+--------------------+---------+--------+------+----------+---------------+---------------+---------------+-------+---------------+----------------+-------+------------------+------------------+-----------+---------+\n",
      "|  0|2013|    1|  1|   517.0|           515|      2.0|   830.0|           819|     11.0|     UA|  1545| N14228|   EWR| IAH|   227.0|    1400|   5|    15|2013-01-01 05:00:00|United Air Lines ...|        0|       0|     1|{EWR, IAH}|              0|              0|              0|    EWR|      40.692501|      -74.168701|    IAH|29.984399795532227|-95.34140014648438|       12.5|      6.4|\n",
      "|  0|2013|    1|  1|   517.0|           515|      2.0|   830.0|           819|     11.0|     UA|  1545| N14228|   EWR| IAH|   227.0|    1400|   5|    15|2013-01-01 05:00:00|United Air Lines ...|        0|       0|     1|{EWR, IAH}|              0|              0|              0|    EWR|      40.692501|      -74.168701|    IAH|29.984399795532227|-95.34140014648438|       12.5|      9.1|\n",
      "|  0|2013|    1|  1|   517.0|           515|      2.0|   830.0|           819|     11.0|     UA|  1545| N14228|   EWR| IAH|   227.0|    1400|   5|    15|2013-01-01 05:00:00|United Air Lines ...|        0|       0|     1|{EWR, IAH}|              0|              0|              0|    EWR|      40.692501|      -74.168701|    IAH|29.984399795532227|-95.34140014648438|       12.5|      4.8|\n",
      "|  0|2013|    1|  1|   517.0|           515|      2.0|   830.0|           819|     11.0|     UA|  1545| N14228|   EWR| IAH|   227.0|    1400|   5|    15|2013-01-01 05:00:00|United Air Lines ...|        0|       0|     1|{EWR, IAH}|              0|              0|              0|    EWR|      40.692501|      -74.168701|    IAH|29.984399795532227|-95.34140014648438|       12.5|      4.6|\n",
      "|  0|2013|    1|  1|   517.0|           515|      2.0|   830.0|           819|     11.0|     UA|  1545| N14228|   EWR| IAH|   227.0|    1400|   5|    15|2013-01-01 05:00:00|United Air Lines ...|        0|       0|     1|{EWR, IAH}|              0|              0|              0|    EWR|      40.692501|      -74.168701|    IAH|29.984399795532227|-95.34140014648438|       12.5|      7.6|\n",
      "|  0|2013|    1|  1|   517.0|           515|      2.0|   830.0|           819|     11.0|     UA|  1545| N14228|   EWR| IAH|   227.0|    1400|   5|    15|2013-01-01 05:00:00|United Air Lines ...|        0|       0|     1|{EWR, IAH}|              0|              0|              0|    EWR|      40.692501|      -74.168701|    IAH|29.984399795532227|-95.34140014648438|       12.5|      6.1|\n",
      "|  0|2013|    1|  1|   517.0|           515|      2.0|   830.0|           819|     11.0|     UA|  1545| N14228|   EWR| IAH|   227.0|    1400|   5|    15|2013-01-01 05:00:00|United Air Lines ...|        0|       0|     1|{EWR, IAH}|              0|              0|              0|    EWR|      40.692501|      -74.168701|    IAH|29.984399795532227|-95.34140014648438|       12.5|      7.8|\n",
      "|  0|2013|    1|  1|   517.0|           515|      2.0|   830.0|           819|     11.0|     UA|  1545| N14228|   EWR| IAH|   227.0|    1400|   5|    15|2013-01-01 05:00:00|United Air Lines ...|        0|       0|     1|{EWR, IAH}|              0|              0|              0|    EWR|      40.692501|      -74.168701|    IAH|29.984399795532227|-95.34140014648438|       12.5|      7.1|\n",
      "|  0|2013|    1|  1|   517.0|           515|      2.0|   830.0|           819|     11.0|     UA|  1545| N14228|   EWR| IAH|   227.0|    1400|   5|    15|2013-01-01 05:00:00|United Air Lines ...|        0|       0|     1|{EWR, IAH}|              0|              0|              0|    EWR|      40.692501|      -74.168701|    IAH|29.984399795532227|-95.34140014648438|       12.5|      9.7|\n",
      "|  0|2013|    1|  1|   517.0|           515|      2.0|   830.0|           819|     11.0|     UA|  1545| N14228|   EWR| IAH|   227.0|    1400|   5|    15|2013-01-01 05:00:00|United Air Lines ...|        0|       0|     1|{EWR, IAH}|              0|              0|              0|    EWR|      40.692501|      -74.168701|    IAH|29.984399795532227|-95.34140014648438|       12.5|     10.7|\n",
      "|  0|2013|    1|  1|   517.0|           515|      2.0|   830.0|           819|     11.0|     UA|  1545| N14228|   EWR| IAH|   227.0|    1400|   5|    15|2013-01-01 05:00:00|United Air Lines ...|        0|       0|     1|{EWR, IAH}|              0|              0|              0|    EWR|      40.692501|      -74.168701|    IAH|29.984399795532227|-95.34140014648438|       12.5|     20.2|\n",
      "|  0|2013|    1|  1|   517.0|           515|      2.0|   830.0|           819|     11.0|     UA|  1545| N14228|   EWR| IAH|   227.0|    1400|   5|    15|2013-01-01 05:00:00|United Air Lines ...|        0|       0|     1|{EWR, IAH}|              0|              0|              0|    EWR|      40.692501|      -74.168701|    IAH|29.984399795532227|-95.34140014648438|       12.5|     14.3|\n",
      "|  0|2013|    1|  1|   517.0|           515|      2.0|   830.0|           819|     11.0|     UA|  1545| N14228|   EWR| IAH|   227.0|    1400|   5|    15|2013-01-01 05:00:00|United Air Lines ...|        0|       0|     1|{EWR, IAH}|              0|              0|              0|    EWR|      40.692501|      -74.168701|    IAH|29.984399795532227|-95.34140014648438|       12.5|     14.4|\n",
      "|  0|2013|    1|  1|   517.0|           515|      2.0|   830.0|           819|     11.0|     UA|  1545| N14228|   EWR| IAH|   227.0|    1400|   5|    15|2013-01-01 05:00:00|United Air Lines ...|        0|       0|     1|{EWR, IAH}|              0|              0|              0|    EWR|      40.692501|      -74.168701|    IAH|29.984399795532227|-95.34140014648438|       12.5|      7.5|\n",
      "|  0|2013|    1|  1|   517.0|           515|      2.0|   830.0|           819|     11.0|     UA|  1545| N14228|   EWR| IAH|   227.0|    1400|   5|    15|2013-01-01 05:00:00|United Air Lines ...|        0|       0|     1|{EWR, IAH}|              0|              0|              0|    EWR|      40.692501|      -74.168701|    IAH|29.984399795532227|-95.34140014648438|       12.5|      5.6|\n",
      "|  0|2013|    1|  1|   517.0|           515|      2.0|   830.0|           819|     11.0|     UA|  1545| N14228|   EWR| IAH|   227.0|    1400|   5|    15|2013-01-01 05:00:00|United Air Lines ...|        0|       0|     1|{EWR, IAH}|              0|              0|              0|    EWR|      40.692501|      -74.168701|    IAH|29.984399795532227|-95.34140014648438|       12.5|      5.1|\n",
      "|  0|2013|    1|  1|   517.0|           515|      2.0|   830.0|           819|     11.0|     UA|  1545| N14228|   EWR| IAH|   227.0|    1400|   5|    15|2013-01-01 05:00:00|United Air Lines ...|        0|       0|     1|{EWR, IAH}|              0|              0|              0|    EWR|      40.692501|      -74.168701|    IAH|29.984399795532227|-95.34140014648438|       12.5|     13.8|\n",
      "|  0|2013|    1|  1|   517.0|           515|      2.0|   830.0|           819|     11.0|     UA|  1545| N14228|   EWR| IAH|   227.0|    1400|   5|    15|2013-01-01 05:00:00|United Air Lines ...|        0|       0|     1|{EWR, IAH}|              0|              0|              0|    EWR|      40.692501|      -74.168701|    IAH|29.984399795532227|-95.34140014648438|       12.5|     14.7|\n",
      "|  0|2013|    1|  1|   517.0|           515|      2.0|   830.0|           819|     11.0|     UA|  1545| N14228|   EWR| IAH|   227.0|    1400|   5|    15|2013-01-01 05:00:00|United Air Lines ...|        0|       0|     1|{EWR, IAH}|              0|              0|              0|    EWR|      40.692501|      -74.168701|    IAH|29.984399795532227|-95.34140014648438|       12.5|      8.6|\n",
      "|  0|2013|    1|  1|   517.0|           515|      2.0|   830.0|           819|     11.0|     UA|  1545| N14228|   EWR| IAH|   227.0|    1400|   5|    15|2013-01-01 05:00:00|United Air Lines ...|        0|       0|     1|{EWR, IAH}|              0|              0|              0|    EWR|      40.692501|      -74.168701|    IAH|29.984399795532227|-95.34140014648438|       12.5|      7.8|\n",
      "+---+----+-----+---+--------+--------------+---------+--------+--------------+---------+-------+------+-------+------+----+--------+--------+----+------+-------------------+--------------------+---------+--------+------+----------+---------------+---------------+---------------+-------+---------------+----------------+-------+------------------+------------------+-----------+---------+\n",
      "only showing top 20 rows\n",
      "\n"
     ]
    }
   ],
   "source": [
    "# 1. Criar uma lista para armazenar os dados de vento para destinos\n",
    "wind_data_list_dest = []\n",
    "\n",
    "# 2. Extrair os dados de vento de cada DataFrame no dicionário para os aeroportos de destino\n",
    "for airport_code, df in wind_dataframes.items():\n",
    "    # Coletar os dados de vento como uma lista de tuplas\n",
    "    wind_data = df.select(\"wind_gusts_10m_max\").rdd.map(lambda row: (airport_code, row[0])).collect()\n",
    "    wind_data_list_dest.extend(wind_data)\n",
    "\n",
    "# 3. Criar um DataFrame a partir da lista de dados de vento para destinos\n",
    "wind_data_df_dest = spark.createDataFrame(wind_data_list_dest, [\"airport_code\", \"wind_dest\"])\n",
    "\n",
    "# 4. Preencher airport_data_final com wind_dest\n",
    "airport_data_final = airport_data_final \\\n",
    "    .join(wind_data_df_dest, airport_data_final.dest == wind_data_df_dest.airport_code, \"left\") \\\n",
    "    .select(airport_data_final[\"*\"], wind_data_df_dest[\"wind_dest\"])\n",
    "\n",
    "# 5. Exibir o DataFrame atualizado\n",
    "airport_data_final.show()"
   ]
  },
  {
   "cell_type": "code",
   "execution_count": null,
   "metadata": {},
   "outputs": [
    {
     "name": "stderr",
     "output_type": "stream",
     "text": [
      "\r",
      "[Stage 345:>                                                        (0 + 3) / 3]\r"
     ]
    }
   ],
   "source": [
    "from pyspark.sql import functions as F\n",
    "\n",
    "airport_data_final = airport_data_final.withColumn(\n",
    "    \"route\", \n",
    "    F.concat(F.col(\"route.origin\"), F.lit(\" to \"), F.col(\"route.dest\"))\n",
    ")\n",
    "\n",
    "# Dropar a coluna 'airport' se necessário\n",
    "airport_data_final = airport_data_final.drop(\"airport\")\n",
    "\n",
    "# Caminho onde você deseja salvar o arquivo CSV\n",
    "output_path = \"caminho/para/salvar/airport_data_final.csv\"\n",
    "\n",
    "# Salvar o DataFrame como CSV\n",
    "airport_data_final.write.csv(output_path, header=True, mode='overwrite')"
   ]
  },
  {
   "cell_type": "code",
   "execution_count": null,
   "metadata": {},
   "outputs": [],
   "source": []
  }
 ],
 "metadata": {
  "kernelspec": {
   "display_name": "Python 3 (ipykernel)",
   "language": "python",
   "name": "python3"
  },
  "language_info": {
   "codemirror_mode": {
    "name": "ipython",
    "version": 3
   },
   "file_extension": ".py",
   "mimetype": "text/x-python",
   "name": "python",
   "nbconvert_exporter": "python",
   "pygments_lexer": "ipython3",
   "version": "3.8.10"
  }
 },
 "nbformat": 4,
 "nbformat_minor": 2
}
