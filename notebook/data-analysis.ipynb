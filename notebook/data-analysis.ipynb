{
 "cells": [
  {
   "cell_type": "code",
   "execution_count": 1,
   "metadata": {},
   "outputs": [],
   "source": [
    "import pandas as pd\n",
    "import matplotlib.pyplot as plt"
   ]
  },
  {
   "cell_type": "markdown",
   "metadata": {},
   "source": [
    "# Análise do dataset"
   ]
  },
  {
   "cell_type": "code",
   "execution_count": 2,
   "metadata": {},
   "outputs": [],
   "source": [
    "# Carregando dados\n",
    "airport_data = pd.read_csv('./../data/airports-database.csv')"
   ]
  },
  {
   "cell_type": "code",
   "execution_count": 3,
   "metadata": {},
   "outputs": [
    {
     "data": {
      "text/html": [
       "<div>\n",
       "<style scoped>\n",
       "    .dataframe tbody tr th:only-of-type {\n",
       "        vertical-align: middle;\n",
       "    }\n",
       "\n",
       "    .dataframe tbody tr th {\n",
       "        vertical-align: top;\n",
       "    }\n",
       "\n",
       "    .dataframe thead th {\n",
       "        text-align: right;\n",
       "    }\n",
       "</style>\n",
       "<table border=\"1\" class=\"dataframe\">\n",
       "  <thead>\n",
       "    <tr style=\"text-align: right;\">\n",
       "      <th></th>\n",
       "      <th>0</th>\n",
       "      <th>1</th>\n",
       "      <th>2</th>\n",
       "      <th>3</th>\n",
       "      <th>4</th>\n",
       "    </tr>\n",
       "  </thead>\n",
       "  <tbody>\n",
       "    <tr>\n",
       "      <th>id</th>\n",
       "      <td>0</td>\n",
       "      <td>1</td>\n",
       "      <td>2</td>\n",
       "      <td>3</td>\n",
       "      <td>4</td>\n",
       "    </tr>\n",
       "    <tr>\n",
       "      <th>year</th>\n",
       "      <td>2013</td>\n",
       "      <td>2013</td>\n",
       "      <td>2013</td>\n",
       "      <td>2013</td>\n",
       "      <td>2013</td>\n",
       "    </tr>\n",
       "    <tr>\n",
       "      <th>month</th>\n",
       "      <td>1</td>\n",
       "      <td>1</td>\n",
       "      <td>1</td>\n",
       "      <td>1</td>\n",
       "      <td>1</td>\n",
       "    </tr>\n",
       "    <tr>\n",
       "      <th>day</th>\n",
       "      <td>1</td>\n",
       "      <td>1</td>\n",
       "      <td>1</td>\n",
       "      <td>1</td>\n",
       "      <td>1</td>\n",
       "    </tr>\n",
       "    <tr>\n",
       "      <th>dep_time</th>\n",
       "      <td>517.0</td>\n",
       "      <td>533.0</td>\n",
       "      <td>542.0</td>\n",
       "      <td>544.0</td>\n",
       "      <td>554.0</td>\n",
       "    </tr>\n",
       "    <tr>\n",
       "      <th>sched_dep_time</th>\n",
       "      <td>515</td>\n",
       "      <td>529</td>\n",
       "      <td>540</td>\n",
       "      <td>545</td>\n",
       "      <td>600</td>\n",
       "    </tr>\n",
       "    <tr>\n",
       "      <th>dep_delay</th>\n",
       "      <td>2.0</td>\n",
       "      <td>4.0</td>\n",
       "      <td>2.0</td>\n",
       "      <td>-1.0</td>\n",
       "      <td>-6.0</td>\n",
       "    </tr>\n",
       "    <tr>\n",
       "      <th>arr_time</th>\n",
       "      <td>830.0</td>\n",
       "      <td>850.0</td>\n",
       "      <td>923.0</td>\n",
       "      <td>1004.0</td>\n",
       "      <td>812.0</td>\n",
       "    </tr>\n",
       "    <tr>\n",
       "      <th>sched_arr_time</th>\n",
       "      <td>819</td>\n",
       "      <td>830</td>\n",
       "      <td>850</td>\n",
       "      <td>1022</td>\n",
       "      <td>837</td>\n",
       "    </tr>\n",
       "    <tr>\n",
       "      <th>arr_delay</th>\n",
       "      <td>11.0</td>\n",
       "      <td>20.0</td>\n",
       "      <td>33.0</td>\n",
       "      <td>-18.0</td>\n",
       "      <td>-25.0</td>\n",
       "    </tr>\n",
       "    <tr>\n",
       "      <th>carrier</th>\n",
       "      <td>UA</td>\n",
       "      <td>UA</td>\n",
       "      <td>AA</td>\n",
       "      <td>B6</td>\n",
       "      <td>DL</td>\n",
       "    </tr>\n",
       "    <tr>\n",
       "      <th>flight</th>\n",
       "      <td>1545</td>\n",
       "      <td>1714</td>\n",
       "      <td>1141</td>\n",
       "      <td>725</td>\n",
       "      <td>461</td>\n",
       "    </tr>\n",
       "    <tr>\n",
       "      <th>tailnum</th>\n",
       "      <td>N14228</td>\n",
       "      <td>N24211</td>\n",
       "      <td>N619AA</td>\n",
       "      <td>N804JB</td>\n",
       "      <td>N668DN</td>\n",
       "    </tr>\n",
       "    <tr>\n",
       "      <th>origin</th>\n",
       "      <td>EWR</td>\n",
       "      <td>LGA</td>\n",
       "      <td>JFK</td>\n",
       "      <td>JFK</td>\n",
       "      <td>LGA</td>\n",
       "    </tr>\n",
       "    <tr>\n",
       "      <th>dest</th>\n",
       "      <td>IAH</td>\n",
       "      <td>IAH</td>\n",
       "      <td>MIA</td>\n",
       "      <td>BQN</td>\n",
       "      <td>ATL</td>\n",
       "    </tr>\n",
       "    <tr>\n",
       "      <th>air_time</th>\n",
       "      <td>227.0</td>\n",
       "      <td>227.0</td>\n",
       "      <td>160.0</td>\n",
       "      <td>183.0</td>\n",
       "      <td>116.0</td>\n",
       "    </tr>\n",
       "    <tr>\n",
       "      <th>distance</th>\n",
       "      <td>1400</td>\n",
       "      <td>1416</td>\n",
       "      <td>1089</td>\n",
       "      <td>1576</td>\n",
       "      <td>762</td>\n",
       "    </tr>\n",
       "    <tr>\n",
       "      <th>hour</th>\n",
       "      <td>5</td>\n",
       "      <td>5</td>\n",
       "      <td>5</td>\n",
       "      <td>5</td>\n",
       "      <td>6</td>\n",
       "    </tr>\n",
       "    <tr>\n",
       "      <th>minute</th>\n",
       "      <td>15</td>\n",
       "      <td>29</td>\n",
       "      <td>40</td>\n",
       "      <td>45</td>\n",
       "      <td>0</td>\n",
       "    </tr>\n",
       "    <tr>\n",
       "      <th>time_hour</th>\n",
       "      <td>2013-01-01 05:00:00</td>\n",
       "      <td>2013-01-01 05:00:00</td>\n",
       "      <td>2013-01-01 05:00:00</td>\n",
       "      <td>2013-01-01 05:00:00</td>\n",
       "      <td>2013-01-01 06:00:00</td>\n",
       "    </tr>\n",
       "    <tr>\n",
       "      <th>name</th>\n",
       "      <td>United Air Lines Inc.</td>\n",
       "      <td>United Air Lines Inc.</td>\n",
       "      <td>American Airlines Inc.</td>\n",
       "      <td>JetBlue Airways</td>\n",
       "      <td>Delta Air Lines Inc.</td>\n",
       "    </tr>\n",
       "  </tbody>\n",
       "</table>\n",
       "</div>"
      ],
      "text/plain": [
       "                                    0                      1  \\\n",
       "id                                  0                      1   \n",
       "year                             2013                   2013   \n",
       "month                               1                      1   \n",
       "day                                 1                      1   \n",
       "dep_time                        517.0                  533.0   \n",
       "sched_dep_time                    515                    529   \n",
       "dep_delay                         2.0                    4.0   \n",
       "arr_time                        830.0                  850.0   \n",
       "sched_arr_time                    819                    830   \n",
       "arr_delay                        11.0                   20.0   \n",
       "carrier                            UA                     UA   \n",
       "flight                           1545                   1714   \n",
       "tailnum                        N14228                 N24211   \n",
       "origin                            EWR                    LGA   \n",
       "dest                              IAH                    IAH   \n",
       "air_time                        227.0                  227.0   \n",
       "distance                         1400                   1416   \n",
       "hour                                5                      5   \n",
       "minute                             15                     29   \n",
       "time_hour         2013-01-01 05:00:00    2013-01-01 05:00:00   \n",
       "name            United Air Lines Inc.  United Air Lines Inc.   \n",
       "\n",
       "                                     2                    3  \\\n",
       "id                                   2                    3   \n",
       "year                              2013                 2013   \n",
       "month                                1                    1   \n",
       "day                                  1                    1   \n",
       "dep_time                         542.0                544.0   \n",
       "sched_dep_time                     540                  545   \n",
       "dep_delay                          2.0                 -1.0   \n",
       "arr_time                         923.0               1004.0   \n",
       "sched_arr_time                     850                 1022   \n",
       "arr_delay                         33.0                -18.0   \n",
       "carrier                             AA                   B6   \n",
       "flight                            1141                  725   \n",
       "tailnum                         N619AA               N804JB   \n",
       "origin                             JFK                  JFK   \n",
       "dest                               MIA                  BQN   \n",
       "air_time                         160.0                183.0   \n",
       "distance                          1089                 1576   \n",
       "hour                                 5                    5   \n",
       "minute                              40                   45   \n",
       "time_hour          2013-01-01 05:00:00  2013-01-01 05:00:00   \n",
       "name            American Airlines Inc.      JetBlue Airways   \n",
       "\n",
       "                                   4  \n",
       "id                                 4  \n",
       "year                            2013  \n",
       "month                              1  \n",
       "day                                1  \n",
       "dep_time                       554.0  \n",
       "sched_dep_time                   600  \n",
       "dep_delay                       -6.0  \n",
       "arr_time                       812.0  \n",
       "sched_arr_time                   837  \n",
       "arr_delay                      -25.0  \n",
       "carrier                           DL  \n",
       "flight                           461  \n",
       "tailnum                       N668DN  \n",
       "origin                           LGA  \n",
       "dest                             ATL  \n",
       "air_time                       116.0  \n",
       "distance                         762  \n",
       "hour                               6  \n",
       "minute                             0  \n",
       "time_hour        2013-01-01 06:00:00  \n",
       "name            Delta Air Lines Inc.  "
      ]
     },
     "execution_count": 3,
     "metadata": {},
     "output_type": "execute_result"
    }
   ],
   "source": [
    "# Visualizando a \"cara\" dos dados\n",
    "airport_data.head().T"
   ]
  },
  {
   "cell_type": "markdown",
   "metadata": {},
   "source": [
    "Alguns pré-processamentos"
   ]
  },
  {
   "cell_type": "code",
   "execution_count": 4,
   "metadata": {},
   "outputs": [],
   "source": [
    "# Voos cancelados: todos que NUNCA DECOLARAM e que NUNCA POUSARAM\n",
    "airport_data['cancelled'] = ((airport_data['dep_time'].isna()) & (airport_data['arr_time'].isna())).astype(int)"
   ]
  },
  {
   "cell_type": "code",
   "execution_count": 5,
   "metadata": {},
   "outputs": [],
   "source": [
    "# Voos desviados: todos que DECOLARAM mas NUNCA POUSARAM (no lugar previsto)\n",
    "airport_data['diverted'] = ((airport_data['cancelled'] == 0) & (airport_data['arr_time'].isna())).astype(int)"
   ]
  },
  {
   "cell_type": "code",
   "execution_count": 6,
   "metadata": {},
   "outputs": [],
   "source": [
    "# Voos finalizados: todos os que DECOLARAM e POUSARAM no lugar previsto\n",
    "airport_data['landed'] = ((airport_data['dep_time'].notna()) & (airport_data['arr_time'].notna())).astype(int)"
   ]
  },
  {
   "cell_type": "markdown",
   "metadata": {},
   "source": [
    "# Respostas para as perguntas"
   ]
  },
  {
   "cell_type": "markdown",
   "metadata": {},
   "source": [
    "1. Qual é o numero total de voos no conjunto de dados? <br>\n",
    "2. Quantos voos foram cancelados?"
   ]
  },
  {
   "cell_type": "code",
   "execution_count": 7,
   "metadata": {},
   "outputs": [
    {
     "name": "stdout",
     "output_type": "stream",
     "text": [
      "Voos cancelados: 8255\n",
      "Voos desviados: 458\n",
      "Voos concluídos: 328063\n",
      "\n",
      "Total de voos: 336776\n",
      "Tamanho total do dataset: 336776\n"
     ]
    }
   ],
   "source": [
    "print('Voos cancelados: {}'.format(airport_data['cancelled'].sum()))\n",
    "print('Voos desviados: {}'.format(airport_data['diverted'].sum()))\n",
    "print('Voos concluídos: {}'.format(airport_data['landed'].sum()))\n",
    "\n",
    "print('\\nTotal de voos: {}'.format(airport_data['cancelled'].sum() + airport_data['diverted'].sum() + airport_data['landed'].sum()))\n",
    "print('Tamanho total do dataset: {}'.format(len(airport_data)))"
   ]
  },
  {
   "cell_type": "markdown",
   "metadata": {},
   "source": [
    "3. Qual o atraso médio na partida dos voos? (em minutos)"
   ]
  },
  {
   "cell_type": "code",
   "execution_count": 8,
   "metadata": {},
   "outputs": [
    {
     "data": {
      "text/plain": [
       "12.575974736559747"
      ]
     },
     "execution_count": 8,
     "metadata": {},
     "output_type": "execute_result"
    }
   ],
   "source": [
    "# Considerando todos os voos concluídos com sucesso:\n",
    "airport_data[airport_data['landed'] == 1]['dep_delay'].mean()"
   ]
  },
  {
   "cell_type": "markdown",
   "metadata": {},
   "source": [
    "4. Quais são os 5 aeroportos com maior número de pousos?"
   ]
  },
  {
   "cell_type": "code",
   "execution_count": 9,
   "metadata": {},
   "outputs": [
    {
     "data": {
      "text/plain": [
       "dest\n",
       "ATL    16873\n",
       "ORD    16607\n",
       "LAX    16058\n",
       "BOS    15028\n",
       "MCO    13979\n",
       "Name: count, dtype: int64"
      ]
     },
     "execution_count": 9,
     "metadata": {},
     "output_type": "execute_result"
    }
   ],
   "source": [
    "# airport_data[airport_data['landed'] == 1].groupby('dest').size().sort_values(ascending=False)\n",
    "airport_data[airport_data['landed'] == 1]['dest'].value_counts().head(5)"
   ]
  },
  {
   "cell_type": "markdown",
   "metadata": {},
   "source": [
    "5. Qual é a rota mais frequente (par origin-dest)?"
   ]
  },
  {
   "cell_type": "code",
   "execution_count": 10,
   "metadata": {},
   "outputs": [
    {
     "data": {
      "text/plain": [
       "route\n",
       "(JFK, LAX)    11262\n",
       "(LGA, ATL)    10263\n",
       "(LGA, ORD)     8857\n",
       "(JFK, SFO)     8204\n",
       "(LGA, CLT)     6168\n",
       "Name: count, dtype: int64"
      ]
     },
     "execution_count": 10,
     "metadata": {},
     "output_type": "execute_result"
    }
   ],
   "source": [
    "# Cria uma tupla contendo (Origem, Destino) e conta as 5 que mais ocorrem\n",
    "airport_data['route'] = airport_data.apply(lambda row: (row['origin'], row['dest']), axis=1)\n",
    "airport_data['route'].value_counts().head(5)"
   ]
  },
  {
   "cell_type": "markdown",
   "metadata": {},
   "source": [
    "6. Quais são as 5 companhias aéreas com maior tempo médio de atraso na chegada? (Exiba também o tempo)"
   ]
  },
  {
   "cell_type": "code",
   "execution_count": 11,
   "metadata": {},
   "outputs": [
    {
     "data": {
      "text/plain": [
       "name\n",
       "Frontier Airlines Inc.         21.920705\n",
       "AirTran Airways Corporation    20.115906\n",
       "ExpressJet Airlines Inc.       15.796431\n",
       "Mesa Airlines Inc.             15.556985\n",
       "SkyWest Airlines Inc.          11.931034\n",
       "Name: arr_delay, dtype: float64"
      ]
     },
     "execution_count": 11,
     "metadata": {},
     "output_type": "execute_result"
    }
   ],
   "source": [
    "airport_data[airport_data['landed'] == 1].groupby('name')['arr_delay'].mean().sort_values(ascending=False).head(5)"
   ]
  },
  {
   "cell_type": "markdown",
   "metadata": {},
   "source": [
    "7. Qual é o dia da semana com maior número de voos? <br>\n",
    "R.: Segunda-feira"
   ]
  },
  {
   "cell_type": "code",
   "execution_count": 12,
   "metadata": {},
   "outputs": [],
   "source": [
    "# Deixando coluna em formato datetime\n",
    "airport_data['time_hour'] = pd.to_datetime(airport_data['time_hour'])"
   ]
  },
  {
   "cell_type": "code",
   "execution_count": 13,
   "metadata": {},
   "outputs": [
    {
     "data": {
      "text/plain": [
       "time_hour\n",
       "Monday       49398\n",
       "Tuesday      49223\n",
       "Wednesday    48753\n",
       "Friday       48642\n",
       "Thursday     48568\n",
       "Sunday       45583\n",
       "Saturday     37896\n",
       "Name: count, dtype: int64"
      ]
     },
     "execution_count": 13,
     "metadata": {},
     "output_type": "execute_result"
    }
   ],
   "source": [
    "airport_data[airport_data['landed'] == 1]['time_hour'].dt.day_name().value_counts()"
   ]
  },
  {
   "cell_type": "markdown",
   "metadata": {},
   "source": [
    "8. Qual o percentual mensal dos voos tiveram atraso na partida superior a 30 minutos?"
   ]
  },
  {
   "cell_type": "code",
   "execution_count": 14,
   "metadata": {},
   "outputs": [],
   "source": [
    "# Criação de nova coluna que contém indicador de atraso superior a 30 min\n",
    "airport_data['30_min_late_dep'] = airport_data['dep_delay'].apply(lambda x: 1 if x > 30 else 0)"
   ]
  },
  {
   "cell_type": "code",
   "execution_count": 15,
   "metadata": {},
   "outputs": [],
   "source": [
    "# Agregação dos voos atrasados em mais de 30 min na decolagem, por mês\n",
    "late_departures_month = airport_data.groupby(airport_data['time_hour'].dt.month)['30_min_late_dep'].sum()\n",
    "\n",
    "# Agregação de todos os voos, por mes\n",
    "total_departures_month = airport_data.groupby(airport_data['time_hour'].dt.month).size()\n",
    "\n",
    "# Porcentagem final\n",
    "percentage_late_dep_month = late_departures_month/total_departures_month*100"
   ]
  },
  {
   "cell_type": "code",
   "execution_count": 16,
   "metadata": {},
   "outputs": [
    {
     "data": {
      "text/plain": [
       "Text(0, 0.5, '%% de voos > 30 min de atraso na decolagem')"
      ]
     },
     "execution_count": 16,
     "metadata": {},
     "output_type": "execute_result"
    },
    {
     "data": {
      "image/png": "[encoded data removed]",
      "text/plain": [
       "<Figure size 640x480 with 1 Axes>"
      ]
     },
     "metadata": {},
     "output_type": "display_data"
    }
   ],
   "source": [
    "percentage_late_dep_month.plot(kind='bar')\n",
    "plt.xlabel('Mês')\n",
    "plt.ylabel('%% de voos > 30 min de atraso na decolagem')"
   ]
  },
  {
   "cell_type": "markdown",
   "metadata": {},
   "source": [
    "9. Qual a origem mais comum para voos que pousaram em Seattle (SEA)?"
   ]
  },
  {
   "cell_type": "code",
   "execution_count": 17,
   "metadata": {},
   "outputs": [
    {
     "data": {
      "text/plain": [
       "origin\n",
       "JFK    2092\n",
       "EWR    1831\n",
       "Name: count, dtype: int64"
      ]
     },
     "execution_count": 17,
     "metadata": {},
     "output_type": "execute_result"
    }
   ],
   "source": [
    "airport_data[airport_data['dest'] == 'SEA']['origin'].value_counts()"
   ]
  },
  {
   "cell_type": "markdown",
   "metadata": {},
   "source": [
    "10. Qual é a média de atraso na partida dos voos (dep_delay) para cada dia da\n",
    "semana?"
   ]
  },
  {
   "cell_type": "code",
   "execution_count": 18,
   "metadata": {},
   "outputs": [
    {
     "data": {
      "text/plain": [
       "time_hour\n",
       "Friday       14.696057\n",
       "Monday       14.778937\n",
       "Saturday      7.650502\n",
       "Sunday       11.589532\n",
       "Thursday     16.148920\n",
       "Tuesday      10.631683\n",
       "Wednesday    11.803512\n",
       "Name: dep_delay, dtype: float64"
      ]
     },
     "execution_count": 18,
     "metadata": {},
     "output_type": "execute_result"
    }
   ],
   "source": [
    "airport_data.groupby(airport_data['time_hour'].dt.day_name())['dep_delay'].mean()"
   ]
  },
  {
   "cell_type": "markdown",
   "metadata": {},
   "source": [
    "11. Qual é a rota que teve o maior tempo de voo médio (air_time)?"
   ]
  },
  {
   "cell_type": "code",
   "execution_count": 19,
   "metadata": {},
   "outputs": [
    {
     "data": {
      "text/plain": [
       "route\n",
       "(JFK, HNL)    623.087719\n",
       "(EWR, HNL)    612.075209\n",
       "(EWR, ANC)    413.125000\n",
       "(JFK, SFO)    347.403626\n",
       "(JFK, SJC)    346.606707\n",
       "Name: air_time, dtype: float64"
      ]
     },
     "execution_count": 19,
     "metadata": {},
     "output_type": "execute_result"
    }
   ],
   "source": [
    "airport_data[airport_data['landed'] == 1].groupby('route')['air_time'].mean().sort_values(ascending=False).head(5)"
   ]
  },
  {
   "cell_type": "markdown",
   "metadata": {},
   "source": [
    "Resposta: 623.08 minutos"
   ]
  },
  {
   "cell_type": "markdown",
   "metadata": {},
   "source": [
    "12. Para cada aeroporto de origem, qual é o aeroporto de destino mais comum?"
   ]
  },
  {
   "cell_type": "code",
   "execution_count": 20,
   "metadata": {},
   "outputs": [
    {
     "data": {
      "text/html": [
       "<div>\n",
       "<style scoped>\n",
       "    .dataframe tbody tr th:only-of-type {\n",
       "        vertical-align: middle;\n",
       "    }\n",
       "\n",
       "    .dataframe tbody tr th {\n",
       "        vertical-align: top;\n",
       "    }\n",
       "\n",
       "    .dataframe thead th {\n",
       "        text-align: right;\n",
       "    }\n",
       "</style>\n",
       "<table border=\"1\" class=\"dataframe\">\n",
       "  <thead>\n",
       "    <tr style=\"text-align: right;\">\n",
       "      <th></th>\n",
       "      <th>origin</th>\n",
       "      <th>dest</th>\n",
       "      <th>count</th>\n",
       "    </tr>\n",
       "  </thead>\n",
       "  <tbody>\n",
       "    <tr>\n",
       "      <th>55</th>\n",
       "      <td>EWR</td>\n",
       "      <td>ORD</td>\n",
       "      <td>6100</td>\n",
       "    </tr>\n",
       "    <tr>\n",
       "      <th>117</th>\n",
       "      <td>JFK</td>\n",
       "      <td>LAX</td>\n",
       "      <td>11262</td>\n",
       "    </tr>\n",
       "    <tr>\n",
       "      <th>156</th>\n",
       "      <td>LGA</td>\n",
       "      <td>ATL</td>\n",
       "      <td>10263</td>\n",
       "    </tr>\n",
       "  </tbody>\n",
       "</table>\n",
       "</div>"
      ],
      "text/plain": [
       "    origin dest  count\n",
       "55     EWR  ORD   6100\n",
       "117    JFK  LAX  11262\n",
       "156    LGA  ATL  10263"
      ]
     },
     "execution_count": 20,
     "metadata": {},
     "output_type": "execute_result"
    }
   ],
   "source": [
    "# Agrupando por origens e destinos e contando ocorrencias de cada combinação\n",
    "aux = airport_data.groupby(['origin', 'dest']).size().reset_index(name='count')\n",
    "\n",
    "# Para cada origem, encontra o destino mais frequente usando idxmax()\n",
    "aux.loc[aux.groupby('origin')['count'].idxmax()]"
   ]
  },
  {
   "cell_type": "code",
   "execution_count": 21,
   "metadata": {},
   "outputs": [],
   "source": [
    "del aux"
   ]
  },
  {
   "cell_type": "markdown",
   "metadata": {},
   "source": [
    "13. Quais são as 3 rotas que tiveram a maior variação no tempo médio de voo (air_time)?"
   ]
  },
  {
   "cell_type": "code",
   "execution_count": 22,
   "metadata": {},
   "outputs": [],
   "source": [
    "# Encontrar tempos minimos e maximos de voo por rota\n",
    "routes = pd.DataFrame()\n",
    "routes['min_air_time'] = airport_data.groupby('route')['air_time'].min()\n",
    "routes['max_air_time'] = airport_data.groupby('route')['air_time'].max()"
   ]
  },
  {
   "cell_type": "code",
   "execution_count": 23,
   "metadata": {},
   "outputs": [],
   "source": [
    "# Subtrair para encontrar o delta\n",
    "routes['var_air_time'] = routes['max_air_time'] - routes['min_air_time']"
   ]
  },
  {
   "cell_type": "code",
   "execution_count": 24,
   "metadata": {},
   "outputs": [
    {
     "data": {
      "text/html": [
       "<div>\n",
       "<style scoped>\n",
       "    .dataframe tbody tr th:only-of-type {\n",
       "        vertical-align: middle;\n",
       "    }\n",
       "\n",
       "    .dataframe tbody tr th {\n",
       "        vertical-align: top;\n",
       "    }\n",
       "\n",
       "    .dataframe thead th {\n",
       "        text-align: right;\n",
       "    }\n",
       "</style>\n",
       "<table border=\"1\" class=\"dataframe\">\n",
       "  <thead>\n",
       "    <tr style=\"text-align: right;\">\n",
       "      <th></th>\n",
       "      <th>min_air_time</th>\n",
       "      <th>max_air_time</th>\n",
       "      <th>var_air_time</th>\n",
       "    </tr>\n",
       "    <tr>\n",
       "      <th>route</th>\n",
       "      <th></th>\n",
       "      <th></th>\n",
       "      <th></th>\n",
       "    </tr>\n",
       "  </thead>\n",
       "  <tbody>\n",
       "    <tr>\n",
       "      <th>(JFK, SFO)</th>\n",
       "      <td>301.0</td>\n",
       "      <td>490.0</td>\n",
       "      <td>189.0</td>\n",
       "    </tr>\n",
       "    <tr>\n",
       "      <th>(JFK, LAX)</th>\n",
       "      <td>275.0</td>\n",
       "      <td>440.0</td>\n",
       "      <td>165.0</td>\n",
       "    </tr>\n",
       "    <tr>\n",
       "      <th>(JFK, EGE)</th>\n",
       "      <td>219.0</td>\n",
       "      <td>382.0</td>\n",
       "      <td>163.0</td>\n",
       "    </tr>\n",
       "  </tbody>\n",
       "</table>\n",
       "</div>"
      ],
      "text/plain": [
       "            min_air_time  max_air_time  var_air_time\n",
       "route                                               \n",
       "(JFK, SFO)         301.0         490.0         189.0\n",
       "(JFK, LAX)         275.0         440.0         165.0\n",
       "(JFK, EGE)         219.0         382.0         163.0"
      ]
     },
     "execution_count": 24,
     "metadata": {},
     "output_type": "execute_result"
    }
   ],
   "source": [
    "routes.sort_values('var_air_time', ascending=False).head(3)"
   ]
  },
  {
   "cell_type": "markdown",
   "metadata": {},
   "source": [
    "14. Qual é a média de atraso na chegada para voos que tiveram atraso na partida superior a 1 hora?"
   ]
  },
  {
   "cell_type": "code",
   "execution_count": 25,
   "metadata": {},
   "outputs": [],
   "source": [
    "# Criação de nova coluna que contém indicador de atraso superior a 60 min\n",
    "airport_data['60_min_late_dep'] = airport_data['dep_delay'].apply(lambda x: 1 if x > 60 else 0)"
   ]
  },
  {
   "cell_type": "code",
   "execution_count": 26,
   "metadata": {},
   "outputs": [
    {
     "data": {
      "text/plain": [
       "119.04880549963919"
      ]
     },
     "execution_count": 26,
     "metadata": {},
     "output_type": "execute_result"
    }
   ],
   "source": [
    "# Valor em minutos\n",
    "airport_data[airport_data['60_min_late_dep'] == 1]['arr_delay'].mean()"
   ]
  },
  {
   "cell_type": "markdown",
   "metadata": {},
   "source": [
    "15. Qual é a média de voos diários para cada mês do ano?"
   ]
  },
  {
   "cell_type": "code",
   "execution_count": 27,
   "metadata": {},
   "outputs": [],
   "source": [
    "# Quantidade de voos para cada data do ano\n",
    "aux = airport_data[airport_data['landed'] == 1].groupby(airport_data['time_hour'].dt.date).size()"
   ]
  },
  {
   "cell_type": "code",
   "execution_count": 28,
   "metadata": {},
   "outputs": [],
   "source": [
    "# Voltando a deixar em datetime\n",
    "aux.index = pd.to_datetime(aux.index)"
   ]
  },
  {
   "cell_type": "code",
   "execution_count": 29,
   "metadata": {},
   "outputs": [
    {
     "data": {
      "text/plain": [
       "time_hour\n",
       "1     853.806452\n",
       "2     845.000000\n",
       "3     901.387097\n",
       "4     920.666667\n",
       "5     909.516129\n",
       "6     905.700000\n",
       "7     915.548387\n",
       "8     929.709677\n",
       "9     902.333333\n",
       "10    923.935484\n",
       "11    900.500000\n",
       "12    873.419355\n",
       "dtype: float64"
      ]
     },
     "execution_count": 29,
     "metadata": {},
     "output_type": "execute_result"
    }
   ],
   "source": [
    "# Agora agrupando por mês mas fazendo a média\n",
    "aux.groupby(aux.index.to_series().dt.month).mean()"
   ]
  },
  {
   "cell_type": "code",
   "execution_count": 30,
   "metadata": {},
   "outputs": [],
   "source": [
    "del aux"
   ]
  },
  {
   "cell_type": "markdown",
   "metadata": {},
   "source": [
    "16. Quais são as 3 rotas mais comuns que tiveram atrasos na chegada superiores a 30 minutos?"
   ]
  },
  {
   "cell_type": "code",
   "execution_count": 31,
   "metadata": {},
   "outputs": [],
   "source": [
    "# Cria coluna para marcar pousos com atrasos superiores de 30 min na chegada\n",
    "airport_data['30_min_late_arr'] = airport_data['arr_delay'].apply(lambda x: 1 if x > 30 else 0)"
   ]
  },
  {
   "cell_type": "code",
   "execution_count": 32,
   "metadata": {},
   "outputs": [
    {
     "data": {
      "text/plain": [
       "route\n",
       "(LGA, ATL)    1563\n",
       "(JFK, LAX)    1286\n",
       "(LGA, ORD)    1188\n",
       "dtype: int64"
      ]
     },
     "execution_count": 32,
     "metadata": {},
     "output_type": "execute_result"
    }
   ],
   "source": [
    "airport_data[airport_data['30_min_late_arr'] == 1].groupby('route').size().sort_values(ascending=False).head(3)"
   ]
  },
  {
   "cell_type": "markdown",
   "metadata": {},
   "source": [
    "17. Para cada origem, qual o principal destino?"
   ]
  },
  {
   "cell_type": "markdown",
   "metadata": {},
   "source": [
    "R.: mesma pergunta da 12?"
   ]
  }
 ],
 "metadata": {
  "kernelspec": {
   "display_name": "Python 3",
   "language": "python",
   "name": "python3"
  },
  "language_info": {
   "codemirror_mode": {
    "name": "ipython",
    "version": 3
   },
   "file_extension": ".py",
   "mimetype": "text/x-python",
   "name": "python",
   "nbconvert_exporter": "python",
   "pygments_lexer": "ipython3",
   "version": "3.8.10"
  }
 },
 "nbformat": 4,
 "nbformat_minor": 2
}
